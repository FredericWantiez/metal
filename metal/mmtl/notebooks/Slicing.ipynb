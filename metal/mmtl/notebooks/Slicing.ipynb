{
 "cells": [
  {
   "cell_type": "code",
   "execution_count": 1,
   "metadata": {
    "scrolled": true
   },
   "outputs": [],
   "source": [
    "%load_ext autoreload\n",
    "%autoreload 2"
   ]
  },
  {
   "cell_type": "code",
   "execution_count": 2,
   "metadata": {},
   "outputs": [],
   "source": [
    "from metal.mmtl.trainer import MultitaskTrainer\n",
    "from metal.mmtl.glue.glue_tasks import create_glue_tasks_payloads\n",
    "from metal.mmtl.metal_model import MetalModel\n",
    "from metal.mmtl.slicing.slice_model import SliceModel"
   ]
  },
  {
   "cell_type": "code",
   "execution_count": 3,
   "metadata": {},
   "outputs": [],
   "source": [
    "SEED = 1"
   ]
  },
  {
   "cell_type": "markdown",
   "metadata": {},
   "source": [
    "### Initialize normal payloads"
   ]
  },
  {
   "cell_type": "code",
   "execution_count": 4,
   "metadata": {},
   "outputs": [],
   "source": [
    "task_kwargs = {\n",
    "    \"dl_kwargs\": {\"batch_size\": 16},\n",
    "    \"freeze_bert\":False,\n",
    "    \"bert_model\": 'bert-large-uncased',\n",
    "    \"max_len\": 128,\n",
    "    \"attention\": False,\n",
    "    \"dropout\": 0.1,\n",
    "}\n",
    "task_names = [\"RTE\"]"
   ]
  },
  {
   "cell_type": "code",
   "execution_count": 5,
   "metadata": {
    "scrolled": false
   },
   "outputs": [
    {
     "name": "stdout",
     "output_type": "stream",
     "text": [
      "Using random seed: 732000\n",
      "Loading RTE Dataset\n"
     ]
    },
    {
     "data": {
      "application/vnd.jupyter.widget-view+json": {
       "model_id": "0f8b48ae07554d5fb7c5c58e9aa8457a",
       "version_major": 2,
       "version_minor": 0
      },
      "text/plain": [
       "HBox(children=(IntProgress(value=0, max=2490), HTML(value='')))"
      ]
     },
     "metadata": {},
     "output_type": "display_data"
    },
    {
     "name": "stdout",
     "output_type": "stream",
     "text": [
      "\n"
     ]
    },
    {
     "data": {
      "application/vnd.jupyter.widget-view+json": {
       "model_id": "db61aa44d8c44d5d8008a5dee77e4dee",
       "version_major": 2,
       "version_minor": 0
      },
      "text/plain": [
       "HBox(children=(IntProgress(value=0, max=277), HTML(value='')))"
      ]
     },
     "metadata": {},
     "output_type": "display_data"
    },
    {
     "name": "stdout",
     "output_type": "stream",
     "text": [
      "\n"
     ]
    },
    {
     "data": {
      "application/vnd.jupyter.widget-view+json": {
       "model_id": "27fa4830b3a54099a47926e1407663ce",
       "version_major": 2,
       "version_minor": 0
      },
      "text/plain": [
       "HBox(children=(IntProgress(value=0, max=3000), HTML(value='')))"
      ]
     },
     "metadata": {},
     "output_type": "display_data"
    },
    {
     "name": "stdout",
     "output_type": "stream",
     "text": [
      "\n",
      "CPU times: user 25.7 s, sys: 2.64 s, total: 28.4 s\n",
      "Wall time: 29.2 s\n"
     ]
    }
   ],
   "source": [
    "%%time\n",
    "\n",
    "# Create tasks and payloads\n",
    "tasks, payloads = create_glue_tasks_payloads(task_names, **task_kwargs)"
   ]
  },
  {
   "cell_type": "code",
   "execution_count": 6,
   "metadata": {
    "scrolled": false
   },
   "outputs": [
    {
     "data": {
      "text/plain": [
       "([ClassificationTask(name=RTE, loss_multiplier=1.00)],\n",
       " [Payload(RTE_train: labels_to_tasks=[{'RTE_gold': 'RTE'}], split=train),\n",
       "  Payload(RTE_valid: labels_to_tasks=[{'RTE_gold': 'RTE'}], split=valid),\n",
       "  Payload(RTE_test: labels_to_tasks=[{'RTE_gold': 'RTE'}], split=test)])"
      ]
     },
     "execution_count": 6,
     "metadata": {},
     "output_type": "execute_result"
    }
   ],
   "source": [
    "tasks, payloads"
   ]
  },
  {
   "cell_type": "markdown",
   "metadata": {},
   "source": [
    "### Initialize and train baseline model "
   ]
  },
  {
   "cell_type": "code",
   "execution_count": 7,
   "metadata": {},
   "outputs": [],
   "source": [
    "model = MetalModel(tasks, seed=SEED, verbose=False)"
   ]
  },
  {
   "cell_type": "code",
   "execution_count": 8,
   "metadata": {},
   "outputs": [
    {
     "name": "stdout",
     "output_type": "stream",
     "text": [
      "Your destination state dict has different keys for the update key.\n"
     ]
    }
   ],
   "source": [
    "from metal.mmtl.glue.glue_tasks import create_glue_tasks_payloads\n",
    "\n",
    "from metal.mmtl.metal_model import MetalModel\n",
    "\n",
    "SEED = 123\n",
    "prev_model = MetalModel(tasks, seed=SEED, verbose=False)\n",
    "\n",
    "import os\n",
    "import torch\n",
    "model_dir = '/dfs/scratch0/chami/metal/logs/2019_03_19/RTE_16_44_10'\n",
    "model_path = os.path.join(model_dir, 'best_model.pth')\n",
    "prev_model.load_weights(model_path)"
   ]
  },
  {
   "cell_type": "code",
   "execution_count": 10,
   "metadata": {
    "scrolled": false
   },
   "outputs": [
    {
     "name": "stdout",
     "output_type": "stream",
     "text": [
      "Beginning train loop.\n",
      "Expecting a total of approximately 2496 examples and 156 batches per epoch from 1 payload(s) in the train split.\n",
      "Writing config to /dfs/scratch0/vschen/metal-mmtl/logs/2019_04_27/13_59_39/config.json\n"
     ]
    },
    {
     "data": {
      "application/vnd.jupyter.widget-view+json": {
       "model_id": "c7a2c4a95f77414c8c77b055adaad95c",
       "version_major": 2,
       "version_minor": 0
      },
      "text/plain": [
       "HBox(children=(IntProgress(value=0, max=156), HTML(value='')))"
      ]
     },
     "metadata": {},
     "output_type": "display_data"
    },
    {
     "name": "stdout",
     "output_type": "stream",
     "text": [
      "[0.10 epo]: RTE:[RTE_train/RTE_gold/loss=7.23e-01, RTE_valid/RTE_gold/accuracy=8.77e-01] model:[train/all/loss=7.23e-01, train/all/lr=1.00e-05, valid/all/loss=6.11e-01]\n",
      "Saving model at iteration 0.10 with best (max) score RTE/RTE_valid/RTE_gold/accuracy=0.877\n",
      "[0.21 epo]: RTE:[RTE_train/RTE_gold/loss=5.44e-01, RTE_valid/RTE_gold/accuracy=9.53e-01] model:[train/all/loss=5.44e-01, train/all/lr=1.00e-05, valid/all/loss=4.85e-01]\n",
      "Saving model at iteration 0.21 with best (max) score RTE/RTE_valid/RTE_gold/accuracy=0.953\n",
      "[0.31 epo]: RTE:[RTE_train/RTE_gold/loss=4.11e-01, RTE_valid/RTE_gold/accuracy=9.46e-01] model:[train/all/loss=4.11e-01, train/all/lr=1.00e-05, valid/all/loss=3.85e-01]\n",
      "[0.41 epo]: RTE:[RTE_train/RTE_gold/loss=3.16e-01, RTE_valid/RTE_gold/accuracy=9.49e-01] model:[train/all/loss=3.16e-01, train/all/lr=1.00e-05, valid/all/loss=3.08e-01]\n",
      "[0.51 epo]: RTE:[RTE_train/RTE_gold/loss=2.71e-01, RTE_valid/RTE_gold/accuracy=9.49e-01] model:[train/all/loss=2.71e-01, train/all/lr=1.00e-05, valid/all/loss=2.50e-01]\n",
      "[0.62 epo]: RTE:[RTE_train/RTE_gold/loss=2.02e-01, RTE_valid/RTE_gold/accuracy=9.49e-01] model:[train/all/loss=2.02e-01, train/all/lr=1.00e-05, valid/all/loss=2.12e-01]\n",
      "[0.72 epo]: RTE:[RTE_train/RTE_gold/loss=1.87e-01, RTE_valid/RTE_gold/accuracy=9.49e-01] model:[train/all/loss=1.87e-01, train/all/lr=1.00e-05, valid/all/loss=1.84e-01]\n",
      "[0.82 epo]: RTE:[RTE_train/RTE_gold/loss=1.40e-01, RTE_valid/RTE_gold/accuracy=9.49e-01] model:[train/all/loss=1.40e-01, train/all/lr=1.00e-05, valid/all/loss=1.70e-01]\n",
      "[0.92 epo]: RTE:[RTE_train/RTE_gold/loss=1.21e-01, RTE_valid/RTE_gold/accuracy=9.53e-01] model:[train/all/loss=1.21e-01, train/all/lr=1.00e-05, valid/all/loss=1.55e-01]\n",
      "\n"
     ]
    },
    {
     "data": {
      "application/vnd.jupyter.widget-view+json": {
       "model_id": "bb321dbcb6ee47c7b2fb62a59d422b2d",
       "version_major": 2,
       "version_minor": 0
      },
      "text/plain": [
       "HBox(children=(IntProgress(value=0, max=156), HTML(value='')))"
      ]
     },
     "metadata": {},
     "output_type": "display_data"
    },
    {
     "name": "stdout",
     "output_type": "stream",
     "text": [
      "[1.03 epo]: RTE:[RTE_train/RTE_gold/loss=1.29e-01, RTE_valid/RTE_gold/accuracy=9.57e-01] model:[train/all/loss=1.29e-01, train/all/lr=1.00e-05, valid/all/loss=1.42e-01]\n",
      "Saving model at iteration 1.03 with best (max) score RTE/RTE_valid/RTE_gold/accuracy=0.957\n",
      "[1.13 epo]: RTE:[RTE_train/RTE_gold/loss=1.05e-01, RTE_valid/RTE_gold/accuracy=9.53e-01] model:[train/all/loss=1.05e-01, train/all/lr=1.00e-05, valid/all/loss=1.39e-01]\n",
      "[1.23 epo]: RTE:[RTE_train/RTE_gold/loss=6.16e-02, RTE_valid/RTE_gold/accuracy=9.53e-01] model:[train/all/loss=6.16e-02, train/all/lr=1.00e-05, valid/all/loss=1.34e-01]\n",
      "[1.33 epo]: RTE:[RTE_train/RTE_gold/loss=1.01e-01, RTE_valid/RTE_gold/accuracy=9.60e-01] model:[train/all/loss=1.01e-01, train/all/lr=1.00e-05, valid/all/loss=1.33e-01]\n",
      "Saving model at iteration 1.33 with best (max) score RTE/RTE_valid/RTE_gold/accuracy=0.960\n",
      "[1.44 epo]: RTE:[RTE_train/RTE_gold/loss=4.28e-02, RTE_valid/RTE_gold/accuracy=9.57e-01] model:[train/all/loss=4.28e-02, train/all/lr=1.00e-05, valid/all/loss=1.35e-01]\n",
      "[1.54 epo]: RTE:[RTE_train/RTE_gold/loss=8.98e-02, RTE_valid/RTE_gold/accuracy=9.53e-01] model:[train/all/loss=8.98e-02, train/all/lr=1.00e-05, valid/all/loss=1.50e-01]\n",
      "[1.64 epo]: RTE:[RTE_train/RTE_gold/loss=9.87e-02, RTE_valid/RTE_gold/accuracy=9.53e-01] model:[train/all/loss=9.87e-02, train/all/lr=1.00e-05, valid/all/loss=1.59e-01]\n",
      "[1.74 epo]: RTE:[RTE_train/RTE_gold/loss=1.13e-01, RTE_valid/RTE_gold/accuracy=9.53e-01] model:[train/all/loss=1.13e-01, train/all/lr=1.00e-05, valid/all/loss=1.47e-01]\n",
      "[1.85 epo]: RTE:[RTE_train/RTE_gold/loss=6.49e-02, RTE_valid/RTE_gold/accuracy=9.57e-01] model:[train/all/loss=6.49e-02, train/all/lr=1.00e-05, valid/all/loss=1.43e-01]\n",
      "[1.95 epo]: RTE:[RTE_train/RTE_gold/loss=4.67e-02, RTE_valid/RTE_gold/accuracy=9.53e-01] model:[train/all/loss=4.67e-02, train/all/lr=1.00e-05, valid/all/loss=1.47e-01]\n",
      "\n"
     ]
    },
    {
     "data": {
      "application/vnd.jupyter.widget-view+json": {
       "model_id": "dabcc08c23f14d99b8ece9c1e3dd2d3d",
       "version_major": 2,
       "version_minor": 0
      },
      "text/plain": [
       "HBox(children=(IntProgress(value=0, max=156), HTML(value='')))"
      ]
     },
     "metadata": {},
     "output_type": "display_data"
    },
    {
     "name": "stdout",
     "output_type": "stream",
     "text": [
      "[2.05 epo]: RTE:[RTE_train/RTE_gold/loss=7.25e-02, RTE_valid/RTE_gold/accuracy=9.57e-01] model:[train/all/loss=7.25e-02, train/all/lr=1.00e-05, valid/all/loss=1.50e-01]\n",
      "[2.15 epo]: RTE:[RTE_train/RTE_gold/loss=3.08e-02, RTE_valid/RTE_gold/accuracy=9.46e-01] model:[train/all/loss=3.08e-02, train/all/lr=1.00e-05, valid/all/loss=1.70e-01]\n",
      "[2.26 epo]: RTE:[RTE_train/RTE_gold/loss=9.90e-02, RTE_valid/RTE_gold/accuracy=9.53e-01] model:[train/all/loss=9.90e-02, train/all/lr=1.00e-05, valid/all/loss=1.62e-01]\n",
      "[2.36 epo]: RTE:[RTE_train/RTE_gold/loss=5.73e-02, RTE_valid/RTE_gold/accuracy=9.53e-01] model:[train/all/loss=5.73e-02, train/all/lr=1.00e-05, valid/all/loss=1.56e-01]\n",
      "[2.46 epo]: RTE:[RTE_train/RTE_gold/loss=4.79e-02, RTE_valid/RTE_gold/accuracy=9.53e-01] model:[train/all/loss=4.79e-02, train/all/lr=1.00e-05, valid/all/loss=1.64e-01]\n",
      "[2.56 epo]: RTE:[RTE_train/RTE_gold/loss=6.92e-02, RTE_valid/RTE_gold/accuracy=9.53e-01] model:[train/all/loss=6.92e-02, train/all/lr=1.00e-05, valid/all/loss=1.60e-01]\n",
      "[2.67 epo]: RTE:[RTE_train/RTE_gold/loss=4.06e-02, RTE_valid/RTE_gold/accuracy=9.57e-01] model:[train/all/loss=4.06e-02, train/all/lr=1.00e-05, valid/all/loss=1.55e-01]\n",
      "[2.77 epo]: RTE:[RTE_train/RTE_gold/loss=5.82e-02, RTE_valid/RTE_gold/accuracy=9.53e-01] model:[train/all/loss=5.82e-02, train/all/lr=1.00e-05, valid/all/loss=1.68e-01]\n",
      "[2.87 epo]: RTE:[RTE_train/RTE_gold/loss=1.91e-01, RTE_valid/RTE_gold/accuracy=9.53e-01] model:[train/all/loss=1.91e-01, train/all/lr=1.00e-05, valid/all/loss=1.71e-01]\n",
      "[2.97 epo]: RTE:[RTE_train/RTE_gold/loss=7.35e-02, RTE_valid/RTE_gold/accuracy=9.64e-01] model:[train/all/loss=7.35e-02, train/all/lr=1.00e-05, valid/all/loss=1.49e-01]\n",
      "Saving model at iteration 2.97 with best (max) score RTE/RTE_valid/RTE_gold/accuracy=0.964\n",
      "\n"
     ]
    },
    {
     "data": {
      "application/vnd.jupyter.widget-view+json": {
       "model_id": "faf94e43f643438a981a3123fdc5351a",
       "version_major": 2,
       "version_minor": 0
      },
      "text/plain": [
       "HBox(children=(IntProgress(value=0, max=156), HTML(value='')))"
      ]
     },
     "metadata": {},
     "output_type": "display_data"
    },
    {
     "name": "stdout",
     "output_type": "stream",
     "text": [
      "[3.08 epo]: RTE:[RTE_train/RTE_gold/loss=7.04e-03, RTE_valid/RTE_gold/accuracy=9.60e-01] model:[train/all/loss=7.04e-03, train/all/lr=1.00e-05, valid/all/loss=1.50e-01]\n",
      "[3.18 epo]: RTE:[RTE_train/RTE_gold/loss=5.24e-02, RTE_valid/RTE_gold/accuracy=9.53e-01] model:[train/all/loss=5.24e-02, train/all/lr=1.00e-05, valid/all/loss=1.67e-01]\n",
      "[3.28 epo]: RTE:[RTE_train/RTE_gold/loss=7.86e-02, RTE_valid/RTE_gold/accuracy=9.60e-01] model:[train/all/loss=7.86e-02, train/all/lr=1.00e-05, valid/all/loss=1.52e-01]\n",
      "[3.38 epo]: RTE:[RTE_train/RTE_gold/loss=3.88e-02, RTE_valid/RTE_gold/accuracy=9.60e-01] model:[train/all/loss=3.88e-02, train/all/lr=1.00e-05, valid/all/loss=1.53e-01]\n",
      "[3.49 epo]: RTE:[RTE_train/RTE_gold/loss=8.45e-02, RTE_valid/RTE_gold/accuracy=9.60e-01] model:[train/all/loss=8.45e-02, train/all/lr=1.00e-05, valid/all/loss=1.52e-01]\n",
      "[3.59 epo]: RTE:[RTE_train/RTE_gold/loss=3.10e-02, RTE_valid/RTE_gold/accuracy=9.60e-01] model:[train/all/loss=3.10e-02, train/all/lr=1.00e-05, valid/all/loss=1.52e-01]\n",
      "[3.69 epo]: RTE:[RTE_train/RTE_gold/loss=4.88e-02, RTE_valid/RTE_gold/accuracy=9.60e-01] model:[train/all/loss=4.88e-02, train/all/lr=1.00e-05, valid/all/loss=1.64e-01]\n",
      "[3.79 epo]: RTE:[RTE_train/RTE_gold/loss=8.00e-02, RTE_valid/RTE_gold/accuracy=9.60e-01] model:[train/all/loss=8.00e-02, train/all/lr=1.00e-05, valid/all/loss=1.54e-01]\n",
      "[3.90 epo]: RTE:[RTE_train/RTE_gold/loss=1.02e-01, RTE_valid/RTE_gold/accuracy=9.64e-01] model:[train/all/loss=1.02e-01, train/all/lr=1.00e-05, valid/all/loss=1.55e-01]\n",
      "[4.0 epo]: RTE:[RTE_train/RTE_gold/loss=1.15e-01, RTE_valid/RTE_gold/accuracy=9.60e-01] model:[train/all/loss=1.15e-01, train/all/lr=1.00e-05, valid/all/loss=1.60e-01]\n",
      "\n"
     ]
    },
    {
     "data": {
      "application/vnd.jupyter.widget-view+json": {
       "model_id": "60e7571c6e784c1f8d76605dc7584fa5",
       "version_major": 2,
       "version_minor": 0
      },
      "text/plain": [
       "HBox(children=(IntProgress(value=0, max=156), HTML(value='')))"
      ]
     },
     "metadata": {},
     "output_type": "display_data"
    },
    {
     "name": "stdout",
     "output_type": "stream",
     "text": [
      "[4.10 epo]: RTE:[RTE_train/RTE_gold/loss=2.13e-02, RTE_valid/RTE_gold/accuracy=9.57e-01] model:[train/all/loss=2.13e-02, train/all/lr=1.00e-05, valid/all/loss=1.70e-01]\n",
      "[4.21 epo]: RTE:[RTE_train/RTE_gold/loss=8.28e-02, RTE_valid/RTE_gold/accuracy=9.68e-01] model:[train/all/loss=8.28e-02, train/all/lr=1.00e-05, valid/all/loss=1.57e-01]\n",
      "Saving model at iteration 4.21 with best (max) score RTE/RTE_valid/RTE_gold/accuracy=0.968\n",
      "[4.31 epo]: RTE:[RTE_train/RTE_gold/loss=2.25e-02, RTE_valid/RTE_gold/accuracy=9.68e-01] model:[train/all/loss=2.25e-02, train/all/lr=1.00e-05, valid/all/loss=1.57e-01]\n",
      "[4.41 epo]: RTE:[RTE_train/RTE_gold/loss=6.96e-02, RTE_valid/RTE_gold/accuracy=9.64e-01] model:[train/all/loss=6.96e-02, train/all/lr=1.00e-05, valid/all/loss=1.54e-01]\n",
      "[4.51 epo]: RTE:[RTE_train/RTE_gold/loss=1.18e-01, RTE_valid/RTE_gold/accuracy=9.64e-01] model:[train/all/loss=1.18e-01, train/all/lr=1.00e-05, valid/all/loss=1.58e-01]\n",
      "[4.62 epo]: RTE:[RTE_train/RTE_gold/loss=8.12e-02, RTE_valid/RTE_gold/accuracy=9.64e-01] model:[train/all/loss=8.12e-02, train/all/lr=1.00e-05, valid/all/loss=1.68e-01]\n",
      "[4.72 epo]: RTE:[RTE_train/RTE_gold/loss=1.07e-01, RTE_valid/RTE_gold/accuracy=9.49e-01] model:[train/all/loss=1.07e-01, train/all/lr=1.00e-05, valid/all/loss=1.90e-01]\n",
      "[4.82 epo]: RTE:[RTE_train/RTE_gold/loss=1.08e-01, RTE_valid/RTE_gold/accuracy=9.64e-01] model:[train/all/loss=1.08e-01, train/all/lr=1.00e-05, valid/all/loss=1.62e-01]\n",
      "[4.92 epo]: RTE:[RTE_train/RTE_gold/loss=6.66e-02, RTE_valid/RTE_gold/accuracy=9.68e-01] model:[train/all/loss=6.66e-02, train/all/lr=1.00e-05, valid/all/loss=1.59e-01]\n",
      "\n",
      "[5.01 epo]: RTE:[RTE_train/RTE_gold/loss=4.74e-02, RTE_valid/RTE_gold/accuracy=9.53e-01] model:[train/all/loss=4.74e-02, train/all/lr=1.00e-05, valid/all/loss=1.76e-01]\n",
      "Restoring best model from iteration 4.21 with score 0.968\n",
      "Finished training\n"
     ]
    },
    {
     "name": "stderr",
     "output_type": "stream",
     "text": [
      "/dfs/scratch0/vschen/metal-mmtl/metal/mmtl/trainer.py:915: UserWarning: MeTaL does not support calculating loss on the test set.\n",
      "  warnings.warn(msg)\n"
     ]
    },
    {
     "name": "stdout",
     "output_type": "stream",
     "text": [
      "{'RTE/RTE_test/RTE_gold/accuracy': 0.0}\n",
      "Cleaning checkpoints\n",
      "Writing metrics to /dfs/scratch0/vschen/metal-mmtl/logs/2019_04_27/13_59_39/metrics.json\n",
      "Writing log to /dfs/scratch0/vschen/metal-mmtl/logs/2019_04_27/13_59_39/log.json\n",
      "Full model saved at /dfs/scratch0/vschen/metal-mmtl/logs/2019_04_27/13_59_39/model.pkl\n",
      "CPU times: user 15min 9s, sys: 3min 6s, total: 18min 15s\n",
      "Wall time: 19min 26s\n"
     ]
    }
   ],
   "source": [
    "%%time\n",
    "trainer = MultitaskTrainer(seed=SEED)\n",
    "trainer.train_model(\n",
    "    prev_model,\n",
    "    payloads,\n",
    "    checkpoint_metric=\"RTE/RTE_valid/RTE_gold/accuracy\",\n",
    "    checkpoint_metric_mode=\"max\",\n",
    "    checkoint_best=True,\n",
    "    writer=\"tensorboard\",\n",
    "    optimizer=\"adamax\",\n",
    "    lr=1e-5,\n",
    "    l2=1e-3,\n",
    "    log_every=0.1, \n",
    "    score_every=0.1,\n",
    "    n_epochs=5,\n",
    "    progress_bar=True,\n",
    "    checkpoint_best=True,\n",
    "    checkpoint_cleanup=True,\n",
    ")"
   ]
  },
  {
   "cell_type": "code",
   "execution_count": 11,
   "metadata": {},
   "outputs": [
    {
     "ename": "AssertionError",
     "evalue": "",
     "output_type": "error",
     "traceback": [
      "\u001b[0;31m---------------------------------------------------------------------------\u001b[0m",
      "\u001b[0;31mAssertionError\u001b[0m                            Traceback (most recent call last)",
      "\u001b[0;32m<ipython-input-11-a871fdc9ebee>\u001b[0m in \u001b[0;36m<module>\u001b[0;34m\u001b[0m\n\u001b[0;32m----> 1\u001b[0;31m \u001b[0;32massert\u001b[0m \u001b[0;32mFalse\u001b[0m\u001b[0;34m\u001b[0m\u001b[0;34m\u001b[0m\u001b[0m\n\u001b[0m",
      "\u001b[0;31mAssertionError\u001b[0m: "
     ]
    }
   ],
   "source": [
    "assert False"
   ]
  },
  {
   "cell_type": "markdown",
   "metadata": {},
   "source": [
    "### Initialize slice payloads"
   ]
  },
  {
   "cell_type": "code",
   "execution_count": 12,
   "metadata": {
    "scrolled": false
   },
   "outputs": [
    {
     "name": "stdout",
     "output_type": "stream",
     "text": [
      "Using random seed: 773630\n",
      "Loading RTE Dataset\n"
     ]
    },
    {
     "data": {
      "application/vnd.jupyter.widget-view+json": {
       "model_id": "e17685df57a84b55b5cae7dddf51131b",
       "version_major": 2,
       "version_minor": 0
      },
      "text/plain": [
       "HBox(children=(IntProgress(value=0, max=2490), HTML(value='')))"
      ]
     },
     "metadata": {},
     "output_type": "display_data"
    },
    {
     "name": "stdout",
     "output_type": "stream",
     "text": [
      "\n"
     ]
    },
    {
     "data": {
      "application/vnd.jupyter.widget-view+json": {
       "model_id": "25d28344c52d44a49a451de0dcd1f4dd",
       "version_major": 2,
       "version_minor": 0
      },
      "text/plain": [
       "HBox(children=(IntProgress(value=0, max=277), HTML(value='')))"
      ]
     },
     "metadata": {},
     "output_type": "display_data"
    },
    {
     "name": "stdout",
     "output_type": "stream",
     "text": [
      "\n"
     ]
    },
    {
     "data": {
      "application/vnd.jupyter.widget-view+json": {
       "model_id": "a26d2a91c19041568668a07af0ccfdba",
       "version_major": 2,
       "version_minor": 0
      },
      "text/plain": [
       "HBox(children=(IntProgress(value=0, max=3000), HTML(value='')))"
      ]
     },
     "metadata": {},
     "output_type": "display_data"
    },
    {
     "name": "stdout",
     "output_type": "stream",
     "text": [
      "\n",
      "Added label_set with 2490/2490 labels for task RTE_slice:has_date:ind to payload RTE_train.\n",
      "Added label_set with 1383/2490 labels for task RTE_slice:has_date:pred to payload RTE_train.\n",
      "Added label_set with 2490/2490 labels for task RTE_slice:BASE:ind to payload RTE_train.\n",
      "Added label_set with 2490/2490 labels for task RTE_slice:BASE:pred to payload RTE_train.\n",
      "Added label_set with 277/277 labels for task RTE_slice:has_date:ind to payload RTE_valid.\n",
      "Added label_set with 148/277 labels for task RTE_slice:has_date:pred to payload RTE_valid.\n",
      "Added label_set with 277/277 labels for task RTE_slice:BASE:ind to payload RTE_valid.\n",
      "Added label_set with 277/277 labels for task RTE_slice:BASE:pred to payload RTE_valid.\n",
      "Added label_set with 3000/3000 labels for task RTE_slice:has_date:ind to payload RTE_test.\n",
      "Added label_set with 1660/3000 labels for task RTE_slice:has_date:pred to payload RTE_test.\n",
      "Added label_set with 3000/3000 labels for task RTE_slice:BASE:ind to payload RTE_test.\n",
      "Added label_set with 3000/3000 labels for task RTE_slice:BASE:pred to payload RTE_test.\n"
     ]
    }
   ],
   "source": [
    "# Create tasks and payloads\n",
    "task_kwargs.update({\"slice_dict\": {\n",
    "    \"RTE\": [\"has_date\", \"BASE\"]}\n",
    "})\n",
    "task_kwargs['attention'] = None\n",
    "\n",
    "tasks_slice, payloads_slice = create_glue_tasks_payloads(\n",
    "    task_names, **task_kwargs\n",
    ")"
   ]
  },
  {
   "cell_type": "markdown",
   "metadata": {},
   "source": [
    "### Evaluate baseline slices"
   ]
  },
  {
   "cell_type": "code",
   "execution_count": 13,
   "metadata": {
    "scrolled": true
   },
   "outputs": [
    {
     "data": {
      "text/plain": [
       "([ClassificationTask(name=RTE, loss_multiplier=1.00),\n",
       "  ClassificationTask(name=RTE_slice:has_date:ind, loss_multiplier=0.25),\n",
       "  ClassificationTask(name=RTE_slice:has_date:pred, loss_multiplier=0.25),\n",
       "  ClassificationTask(name=RTE_slice:BASE:ind, loss_multiplier=0.25),\n",
       "  ClassificationTask(name=RTE_slice:BASE:pred, loss_multiplier=0.25)],\n",
       " [Payload(RTE_train: labels_to_tasks=[{'RTE_gold': 'RTE', 'RTE_slice:has_date:ind': 'RTE_slice:has_date:ind', 'RTE_slice:has_date:pred': 'RTE_slice:has_date:pred', 'RTE_slice:BASE:ind': 'RTE_slice:BASE:ind', 'RTE_slice:BASE:pred': 'RTE_slice:BASE:pred'}], split=train),\n",
       "  Payload(RTE_valid: labels_to_tasks=[{'RTE_gold': 'RTE', 'RTE_slice:has_date:ind': 'RTE_slice:has_date:ind', 'RTE_slice:has_date:pred': 'RTE_slice:has_date:pred', 'RTE_slice:BASE:ind': 'RTE_slice:BASE:ind', 'RTE_slice:BASE:pred': 'RTE_slice:BASE:pred'}], split=valid),\n",
       "  Payload(RTE_test: labels_to_tasks=[{'RTE_gold': 'RTE', 'RTE_slice:has_date:ind': 'RTE_slice:has_date:ind', 'RTE_slice:has_date:pred': 'RTE_slice:has_date:pred', 'RTE_slice:BASE:ind': 'RTE_slice:BASE:ind', 'RTE_slice:BASE:pred': 'RTE_slice:BASE:pred'}], split=test)])"
      ]
     },
     "execution_count": 13,
     "metadata": {},
     "output_type": "execute_result"
    }
   ],
   "source": [
    "tasks_slice, payloads_slice"
   ]
  },
  {
   "cell_type": "code",
   "execution_count": 14,
   "metadata": {
    "scrolled": true
   },
   "outputs": [
    {
     "name": "stdout",
     "output_type": "stream",
     "text": [
      "labelset 'RTE_slice:has_date:ind' -> task 'RTE' (originally, RTE_slice:has_date:ind).\n",
      "labelset 'RTE_slice:has_date:pred' -> task 'RTE' (originally, RTE_slice:has_date:pred).\n",
      "labelset 'RTE_slice:BASE:ind' -> task 'RTE' (originally, RTE_slice:BASE:ind).\n",
      "labelset 'RTE_slice:BASE:pred' -> task 'RTE' (originally, RTE_slice:BASE:pred).\n"
     ]
    }
   ],
   "source": [
    "import copy\n",
    "eval_payload = copy.deepcopy(payloads_slice[1])\n",
    "\n",
    "# NOTE: we need to retarget slices to the original RTE head\n",
    "# for label_name in ['RTE_slice:dash_semicolon', 'RTE_slice:more_people', 'RTE_slice:BASE']:\n",
    "for label_name in ['RTE_slice:has_date', 'RTE_slice:BASE']:\n",
    "    for slice_head_type in ['ind', 'pred']:\n",
    "        eval_payload.retarget_labelset(f'{label_name}:{slice_head_type}', 'RTE')"
   ]
  },
  {
   "cell_type": "code",
   "execution_count": 15,
   "metadata": {
    "scrolled": true
   },
   "outputs": [
    {
     "data": {
      "text/plain": [
       "Payload(RTE_valid: labels_to_tasks=[{'RTE_gold': 'RTE', 'RTE_slice:has_date:ind': 'RTE', 'RTE_slice:has_date:pred': 'RTE', 'RTE_slice:BASE:ind': 'RTE', 'RTE_slice:BASE:pred': 'RTE'}], split=valid)"
      ]
     },
     "execution_count": 15,
     "metadata": {},
     "output_type": "execute_result"
    }
   ],
   "source": [
    "eval_payload"
   ]
  },
  {
   "cell_type": "code",
   "execution_count": null,
   "metadata": {},
   "outputs": [
    {
     "data": {
      "text/plain": [
       "{'RTE/RTE_valid/RTE_gold/accuracy': 0.9675090252707581,\n",
       " 'RTE/RTE_valid/RTE_slice:has_date:ind/accuracy': 0.5342960288808665,\n",
       " 'RTE/RTE_valid/RTE_slice:has_date:pred/accuracy': 0.9594594594594594,\n",
       " 'RTE/RTE_valid/RTE_slice:BASE:ind/accuracy': 0.5451263537906137,\n",
       " 'RTE/RTE_valid/RTE_slice:BASE:pred/accuracy': 0.9675090252707581}"
      ]
     },
     "execution_count": 16,
     "metadata": {},
     "output_type": "execute_result"
    }
   ],
   "source": [
    "model.score(eval_payload)"
   ]
  },
  {
   "cell_type": "markdown",
   "metadata": {},
   "source": [
    "### Initialize and train slice model"
   ]
  },
  {
   "cell_type": "code",
   "execution_count": null,
   "metadata": {
    "scrolled": false
   },
   "outputs": [
    {
     "name": "stdout",
     "output_type": "stream",
     "text": [
      "Modifying RTE out_features from 2 -> 1\n",
      "Modifying RTE_slice:has_date:ind out_features from 2 -> 1\n",
      "Modifying RTE_slice:has_date:pred out_features from 2 -> 1\n",
      "Modifying RTE_slice:BASE:ind out_features from 2 -> 1\n",
      "Modifying RTE_slice:BASE:pred out_features from 2 -> 1\n"
     ]
    },
    {
     "data": {
      "text/plain": [
       "[BinaryClassificationTask(name=RTE, loss_multiplier=1.00, slice_head_type=None),\n",
       " BinaryClassificationTask(name=RTE_slice:has_date:ind, loss_multiplier=0.25, slice_head_type=ind),\n",
       " BinaryClassificationTask(name=RTE_slice:has_date:pred, loss_multiplier=0.25, slice_head_type=pred),\n",
       " BinaryClassificationTask(name=RTE_slice:BASE:ind, loss_multiplier=0.25, slice_head_type=ind),\n",
       " BinaryClassificationTask(name=RTE_slice:BASE:pred, loss_multiplier=0.25, slice_head_type=pred)]"
      ]
     },
     "execution_count": 17,
     "metadata": {},
     "output_type": "execute_result"
    }
   ],
   "source": [
    "from metal.mmtl.slicing.tasks import convert_to_slicing_tasks\n",
    "slicing_tasks = convert_to_slicing_tasks(tasks_slice)\n",
    "slicing_tasks"
   ]
  },
  {
   "cell_type": "code",
   "execution_count": null,
   "metadata": {},
   "outputs": [],
   "source": [
    "slice_model = SliceModel(slicing_tasks, seed=SEED, verbose=False)"
   ]
  },
  {
   "cell_type": "code",
   "execution_count": null,
   "metadata": {},
   "outputs": [],
   "source": [
    "# load weights from the base model\n",
    "base_state_dict = model.state_dict()\n",
    "slice_state_dict = slice_model.state_dict()\n",
    "del base_state_dict['head_modules.RTE.module.module.weight']\n",
    "del base_state_dict['head_modules.RTE.module.module.bias']\n",
    "slice_state_dict.update(base_state_dict)\n",
    "slice_model.load_state_dict(slice_state_dict)"
   ]
  },
  {
   "cell_type": "code",
   "execution_count": null,
   "metadata": {
    "scrolled": true
   },
   "outputs": [
    {
     "name": "stdout",
     "output_type": "stream",
     "text": [
      "Beginning train loop.\n",
      "Expecting a total of approximately 2496 examples and 156 batches per epoch from 1 payload(s) in the train split.\n",
      "Writing config to /dfs/scratch0/vschen/metal-mmtl/logs/2019_04_27/14_25_25/config.json\n"
     ]
    },
    {
     "data": {
      "application/vnd.jupyter.widget-view+json": {
       "model_id": "4baea9086a704aeb8c6ff5cbd3f254cd",
       "version_major": 2,
       "version_minor": 0
      },
      "text/plain": [
       "HBox(children=(IntProgress(value=0, max=156), HTML(value='')))"
      ]
     },
     "metadata": {},
     "output_type": "display_data"
    },
    {
     "name": "stdout",
     "output_type": "stream",
     "text": [
      "[0.10 epo]: RTE:[RTE_train/RTE_gold/loss=6.96e-01, RTE_valid/RTE_gold/accuracy=4.73e-01] RTE_slice:has_date:ind:[RTE_train/RTE_slice:has_date:ind/loss=1.74e-01, RTE_valid/RTE_slice:has_date:ind/accuracy=5.49e-01] RTE_slice:has_date:pred:[RTE_train/RTE_slice:has_date:pred/loss=2.18e-01, RTE_valid/RTE_slice:has_date:pred/accuracy=4.32e-01] RTE_slice:BASE:ind:[RTE_train/RTE_slice:BASE:ind/loss=1.34e-01, RTE_valid/RTE_slice:BASE:ind/accuracy=1.00e+00] RTE_slice:BASE:pred:[RTE_train/RTE_slice:BASE:pred/loss=1.25e-01, RTE_valid/RTE_slice:BASE:pred/accuracy=9.06e-01] model:[train/all/loss=2.75e-01, train/all/lr=1.00e-05, valid/all/loss=2.62e-01]\n",
      "Saving model at iteration 0.10 with best (max) score RTE/RTE_valid/RTE_gold/accuracy=0.473\n",
      "[0.21 epo]: RTE:[RTE_train/RTE_gold/loss=6.95e-01, RTE_valid/RTE_gold/accuracy=4.73e-01] RTE_slice:has_date:ind:[RTE_train/RTE_slice:has_date:ind/loss=1.72e-01, RTE_valid/RTE_slice:has_date:ind/accuracy=5.34e-01] RTE_slice:has_date:pred:[RTE_train/RTE_slice:has_date:pred/loss=1.54e-01, RTE_valid/RTE_slice:has_date:pred/accuracy=9.12e-01] RTE_slice:BASE:ind:[RTE_train/RTE_slice:BASE:ind/loss=7.68e-02, RTE_valid/RTE_slice:BASE:ind/accuracy=1.00e+00] RTE_slice:BASE:pred:[RTE_train/RTE_slice:BASE:pred/loss=1.17e-01, RTE_valid/RTE_slice:BASE:pred/accuracy=9.49e-01] model:[train/all/loss=2.52e-01, train/all/lr=1.00e-05, valid/all/loss=2.44e-01]\n",
      "[0.31 epo]: RTE:[RTE_train/RTE_gold/loss=6.96e-01, RTE_valid/RTE_gold/accuracy=4.73e-01] RTE_slice:has_date:ind:[RTE_train/RTE_slice:has_date:ind/loss=1.72e-01, RTE_valid/RTE_slice:has_date:ind/accuracy=5.38e-01] RTE_slice:has_date:pred:[RTE_train/RTE_slice:has_date:pred/loss=1.20e-01, RTE_valid/RTE_slice:has_date:pred/accuracy=9.59e-01] RTE_slice:BASE:ind:[RTE_train/RTE_slice:BASE:ind/loss=5.91e-02, RTE_valid/RTE_slice:BASE:ind/accuracy=1.00e+00] RTE_slice:BASE:pred:[RTE_train/RTE_slice:BASE:pred/loss=9.50e-02, RTE_valid/RTE_slice:BASE:pred/accuracy=9.53e-01] model:[train/all/loss=2.38e-01, train/all/lr=1.00e-05, valid/all/loss=2.35e-01]\n",
      "[0.41 epo]: RTE:[RTE_train/RTE_gold/loss=6.96e-01, RTE_valid/RTE_gold/accuracy=4.73e-01] RTE_slice:has_date:ind:[RTE_train/RTE_slice:has_date:ind/loss=1.74e-01, RTE_valid/RTE_slice:has_date:ind/accuracy=5.56e-01] RTE_slice:has_date:pred:[RTE_train/RTE_slice:has_date:pred/loss=8.89e-02, RTE_valid/RTE_slice:has_date:pred/accuracy=9.59e-01] RTE_slice:BASE:ind:[RTE_train/RTE_slice:BASE:ind/loss=4.98e-02, RTE_valid/RTE_slice:BASE:ind/accuracy=1.00e+00] RTE_slice:BASE:pred:[RTE_train/RTE_slice:BASE:pred/loss=7.36e-02, RTE_valid/RTE_slice:BASE:pred/accuracy=9.53e-01] model:[train/all/loss=2.30e-01, train/all/lr=1.00e-05, valid/all/loss=2.27e-01]\n",
      "[0.51 epo]: RTE:[RTE_train/RTE_gold/loss=6.94e-01, RTE_valid/RTE_gold/accuracy=4.73e-01] RTE_slice:has_date:ind:[RTE_train/RTE_slice:has_date:ind/loss=1.71e-01, RTE_valid/RTE_slice:has_date:ind/accuracy=5.49e-01] RTE_slice:has_date:pred:[RTE_train/RTE_slice:has_date:pred/loss=7.84e-02, RTE_valid/RTE_slice:has_date:pred/accuracy=9.59e-01] RTE_slice:BASE:ind:[RTE_train/RTE_slice:BASE:ind/loss=4.05e-02, RTE_valid/RTE_slice:BASE:ind/accuracy=1.00e+00] RTE_slice:BASE:pred:[RTE_train/RTE_slice:BASE:pred/loss=7.05e-02, RTE_valid/RTE_slice:BASE:pred/accuracy=9.64e-01] model:[train/all/loss=2.24e-01, train/all/lr=1.00e-05, valid/all/loss=2.21e-01]\n",
      "[0.62 epo]: RTE:[RTE_train/RTE_gold/loss=6.95e-01, RTE_valid/RTE_gold/accuracy=4.73e-01] RTE_slice:has_date:ind:[RTE_train/RTE_slice:has_date:ind/loss=1.69e-01, RTE_valid/RTE_slice:has_date:ind/accuracy=5.60e-01] RTE_slice:has_date:pred:[RTE_train/RTE_slice:has_date:pred/loss=5.71e-02, RTE_valid/RTE_slice:has_date:pred/accuracy=9.59e-01] RTE_slice:BASE:ind:[RTE_train/RTE_slice:BASE:ind/loss=3.61e-02, RTE_valid/RTE_slice:BASE:ind/accuracy=1.00e+00] RTE_slice:BASE:pred:[RTE_train/RTE_slice:BASE:pred/loss=5.66e-02, RTE_valid/RTE_slice:BASE:pred/accuracy=9.57e-01] model:[train/all/loss=2.16e-01, train/all/lr=1.00e-05, valid/all/loss=2.18e-01]\n",
      "[0.72 epo]: RTE:[RTE_train/RTE_gold/loss=6.94e-01, RTE_valid/RTE_gold/accuracy=4.73e-01] RTE_slice:has_date:ind:[RTE_train/RTE_slice:has_date:ind/loss=1.73e-01, RTE_valid/RTE_slice:has_date:ind/accuracy=5.85e-01] RTE_slice:has_date:pred:[RTE_train/RTE_slice:has_date:pred/loss=5.02e-02, RTE_valid/RTE_slice:has_date:pred/accuracy=9.59e-01] RTE_slice:BASE:ind:[RTE_train/RTE_slice:BASE:ind/loss=2.81e-02, RTE_valid/RTE_slice:BASE:ind/accuracy=1.00e+00] RTE_slice:BASE:pred:[RTE_train/RTE_slice:BASE:pred/loss=5.18e-02, RTE_valid/RTE_slice:BASE:pred/accuracy=9.57e-01] model:[train/all/loss=2.16e-01, train/all/lr=1.00e-05, valid/all/loss=2.14e-01]\n",
      "[0.82 epo]: RTE:[RTE_train/RTE_gold/loss=6.94e-01, RTE_valid/RTE_gold/accuracy=4.73e-01] RTE_slice:has_date:ind:[RTE_train/RTE_slice:has_date:ind/loss=1.70e-01, RTE_valid/RTE_slice:has_date:ind/accuracy=5.74e-01] RTE_slice:has_date:pred:[RTE_train/RTE_slice:has_date:pred/loss=4.90e-02, RTE_valid/RTE_slice:has_date:pred/accuracy=9.53e-01] RTE_slice:BASE:ind:[RTE_train/RTE_slice:BASE:ind/loss=2.54e-02, RTE_valid/RTE_slice:BASE:ind/accuracy=1.00e+00] RTE_slice:BASE:pred:[RTE_train/RTE_slice:BASE:pred/loss=4.86e-02, RTE_valid/RTE_slice:BASE:pred/accuracy=9.49e-01] model:[train/all/loss=2.11e-01, train/all/lr=1.00e-05, valid/all/loss=2.13e-01]\n",
      "[0.92 epo]: RTE:[RTE_train/RTE_gold/loss=6.93e-01, RTE_valid/RTE_gold/accuracy=4.73e-01] RTE_slice:has_date:ind:[RTE_train/RTE_slice:has_date:ind/loss=1.65e-01, RTE_valid/RTE_slice:has_date:ind/accuracy=5.52e-01] RTE_slice:has_date:pred:[RTE_train/RTE_slice:has_date:pred/loss=4.45e-02, RTE_valid/RTE_slice:has_date:pred/accuracy=9.59e-01] RTE_slice:BASE:ind:[RTE_train/RTE_slice:BASE:ind/loss=2.30e-02, RTE_valid/RTE_slice:BASE:ind/accuracy=1.00e+00] RTE_slice:BASE:pred:[RTE_train/RTE_slice:BASE:pred/loss=4.05e-02, RTE_valid/RTE_slice:BASE:pred/accuracy=9.57e-01] model:[train/all/loss=2.07e-01, train/all/lr=1.00e-05, valid/all/loss=2.11e-01]\n",
      "\n"
     ]
    },
    {
     "data": {
      "application/vnd.jupyter.widget-view+json": {
       "model_id": "1d2fc4a3ceb1426a92be10013e9e1791",
       "version_major": 2,
       "version_minor": 0
      },
      "text/plain": [
       "HBox(children=(IntProgress(value=0, max=156), HTML(value='')))"
      ]
     },
     "metadata": {},
     "output_type": "display_data"
    },
    {
     "name": "stdout",
     "output_type": "stream",
     "text": [
      "[1.03 epo]: RTE:[RTE_train/RTE_gold/loss=6.93e-01, RTE_valid/RTE_gold/accuracy=4.73e-01] RTE_slice:has_date:ind:[RTE_train/RTE_slice:has_date:ind/loss=1.64e-01, RTE_valid/RTE_slice:has_date:ind/accuracy=5.52e-01] RTE_slice:has_date:pred:[RTE_train/RTE_slice:has_date:pred/loss=4.31e-02, RTE_valid/RTE_slice:has_date:pred/accuracy=9.66e-01] RTE_slice:BASE:ind:[RTE_train/RTE_slice:BASE:ind/loss=1.98e-02, RTE_valid/RTE_slice:BASE:ind/accuracy=1.00e+00] RTE_slice:BASE:pred:[RTE_train/RTE_slice:BASE:pred/loss=4.62e-02, RTE_valid/RTE_slice:BASE:pred/accuracy=9.53e-01] model:[train/all/loss=2.06e-01, train/all/lr=1.00e-05, valid/all/loss=2.09e-01]\n",
      "[1.13 epo]: RTE:[RTE_train/RTE_gold/loss=6.93e-01, RTE_valid/RTE_gold/accuracy=4.73e-01] RTE_slice:has_date:ind:[RTE_train/RTE_slice:has_date:ind/loss=1.63e-01, RTE_valid/RTE_slice:has_date:ind/accuracy=5.52e-01] RTE_slice:has_date:pred:[RTE_train/RTE_slice:has_date:pred/loss=3.84e-02, RTE_valid/RTE_slice:has_date:pred/accuracy=9.53e-01] RTE_slice:BASE:ind:[RTE_train/RTE_slice:BASE:ind/loss=1.96e-02, RTE_valid/RTE_slice:BASE:ind/accuracy=1.00e+00] RTE_slice:BASE:pred:[RTE_train/RTE_slice:BASE:pred/loss=3.68e-02, RTE_valid/RTE_slice:BASE:pred/accuracy=9.53e-01] model:[train/all/loss=2.03e-01, train/all/lr=1.00e-05, valid/all/loss=2.08e-01]\n",
      "[1.23 epo]: RTE:[RTE_train/RTE_gold/loss=6.92e-01, RTE_valid/RTE_gold/accuracy=4.73e-01] RTE_slice:has_date:ind:[RTE_train/RTE_slice:has_date:ind/loss=1.67e-01, RTE_valid/RTE_slice:has_date:ind/accuracy=6.32e-01] RTE_slice:has_date:pred:[RTE_train/RTE_slice:has_date:pred/loss=3.22e-02, RTE_valid/RTE_slice:has_date:pred/accuracy=9.59e-01] RTE_slice:BASE:ind:[RTE_train/RTE_slice:BASE:ind/loss=1.72e-02, RTE_valid/RTE_slice:BASE:ind/accuracy=1.00e+00] RTE_slice:BASE:pred:[RTE_train/RTE_slice:BASE:pred/loss=3.44e-02, RTE_valid/RTE_slice:BASE:pred/accuracy=9.53e-01] model:[train/all/loss=2.04e-01, train/all/lr=1.00e-05, valid/all/loss=2.07e-01]\n",
      "[1.33 epo]: RTE:[RTE_train/RTE_gold/loss=6.92e-01, RTE_valid/RTE_gold/accuracy=4.73e-01] RTE_slice:has_date:ind:[RTE_train/RTE_slice:has_date:ind/loss=1.68e-01, RTE_valid/RTE_slice:has_date:ind/accuracy=6.21e-01] RTE_slice:has_date:pred:[RTE_train/RTE_slice:has_date:pred/loss=3.08e-02, RTE_valid/RTE_slice:has_date:pred/accuracy=9.53e-01] RTE_slice:BASE:ind:[RTE_train/RTE_slice:BASE:ind/loss=1.70e-02, RTE_valid/RTE_slice:BASE:ind/accuracy=1.00e+00] RTE_slice:BASE:pred:[RTE_train/RTE_slice:BASE:pred/loss=3.71e-02, RTE_valid/RTE_slice:BASE:pred/accuracy=9.49e-01] model:[train/all/loss=2.06e-01, train/all/lr=1.00e-05, valid/all/loss=2.06e-01]\n",
      "[1.44 epo]: RTE:[RTE_train/RTE_gold/loss=6.91e-01, RTE_valid/RTE_gold/accuracy=4.73e-01] RTE_slice:has_date:ind:[RTE_train/RTE_slice:has_date:ind/loss=1.60e-01, RTE_valid/RTE_slice:has_date:ind/accuracy=5.78e-01] RTE_slice:has_date:pred:[RTE_train/RTE_slice:has_date:pred/loss=3.13e-02, RTE_valid/RTE_slice:has_date:pred/accuracy=9.46e-01] RTE_slice:BASE:ind:[RTE_train/RTE_slice:BASE:ind/loss=1.54e-02, RTE_valid/RTE_slice:BASE:ind/accuracy=1.00e+00] RTE_slice:BASE:pred:[RTE_train/RTE_slice:BASE:pred/loss=3.30e-02, RTE_valid/RTE_slice:BASE:pred/accuracy=9.46e-01] model:[train/all/loss=2.00e-01, train/all/lr=1.00e-05, valid/all/loss=2.06e-01]\n"
     ]
    }
   ],
   "source": [
    "%%time\n",
    "trainer = MultitaskTrainer(seed=SEED)\n",
    "trainer.train_model(\n",
    "    slice_model,\n",
    "    payloads_slice,\n",
    "#     task_metrics=[\n",
    "#         \"RTE/RTE_train/RTE_gold/loss\", \n",
    "#         \"RTE/RTE_train/RTE_slice:BASE:ind/loss\",\n",
    "#         \"RTE/RTE_train/RTE_slice:dash_semicolon:ind/loss\", \n",
    "#         \"RTE/RTE_train/RTE_slice:more_people:ind/loss\",\n",
    "#         \"RTE/RTE_train/RTE_slice:BASE:pred/loss\",\n",
    "#         \"RTE/RTE_train/RTE_slice:dash_semicolon:pred/loss\", \n",
    "#         \"RTE/RTE_train/RTE_slice:more_people:pred/loss\",\n",
    "        \n",
    "#         \"RTE/RTE_valid/RTE_gold/accuracy\",\n",
    "#         \"RTE/RTE_valid/RTE_slice:BASE:ind/accuracy\", \n",
    "#         \"RTE/RTE_valid/RTE_slice:dash_semicolon:ind/accuracy\", \n",
    "#         \"RTE/RTE_valid/RTE_slice:more_people:ind/accuracy\",\n",
    "#         \"RTE/RTE_valid/RTE_slice:BASE:pred/accuracy\", \n",
    "#         \"RTE/RTE_valid/RTE_slice:dash_semicolon:pred/accuracy\", \n",
    "#         \"RTE/RTE_valid/RTE_slice:more_people:pred/accuracy\",\n",
    "#     ],\n",
    "    checkpoint_metric=\"RTE/RTE_valid/RTE_gold/accuracy\",\n",
    "    checkpoint_metric_mode=\"max\",\n",
    "    checkoint_best=True,\n",
    "    writer=\"tensorboard\",\n",
    "    optimizer=\"adamax\",\n",
    "    lr=1e-5,\n",
    "#     l2=1e-3,\n",
    "    l2=1e-3,\n",
    "    log_every=0.1, \n",
    "    score_every=0.1,\n",
    "    n_epochs=50,\n",
    "    progress_bar=True,\n",
    "    checkpoint_best=True,\n",
    "    checkpoint_cleanup=True\n",
    ")"
   ]
  },
  {
   "cell_type": "markdown",
   "metadata": {},
   "source": [
    "#### Did we improve?"
   ]
  },
  {
   "cell_type": "code",
   "execution_count": 23,
   "metadata": {},
   "outputs": [
    {
     "name": "stdout",
     "output_type": "stream",
     "text": [
      "CPU times: user 3.42 s, sys: 760 ms, total: 4.18 s\n",
      "Wall time: 4.14 s\n"
     ]
    },
    {
     "data": {
      "text/plain": [
       "{'RTE/RTE_valid/RTE_gold/accuracy': 0.9169675090252708,\n",
       " 'RTE_slice:has_date:ind/RTE_valid/RTE_slice:has_date:ind/accuracy': 0.924187725631769,\n",
       " 'RTE_slice:has_date:pred/RTE_valid/RTE_slice:has_date:pred/accuracy': 0.9324324324324325,\n",
       " 'RTE_slice:BASE:ind/RTE_valid/RTE_slice:BASE:ind/accuracy': 1.0,\n",
       " 'RTE_slice:BASE:pred/RTE_valid/RTE_slice:BASE:pred/accuracy': 0.9169675090252708}"
      ]
     },
     "execution_count": 23,
     "metadata": {},
     "output_type": "execute_result"
    }
   ],
   "source": [
    "%%time\n",
    "slice_model.score(payloads_slice[1])"
   ]
  },
  {
   "cell_type": "code",
   "execution_count": 24,
   "metadata": {
    "scrolled": true
   },
   "outputs": [
    {
     "data": {
      "text/plain": [
       "{'RTE/RTE_valid/RTE_gold/accuracy': 0.9169675090252708,\n",
       " 'RTE/RTE_valid/RTE_slice:has_date:ind/accuracy': 0.5342960288808665,\n",
       " 'RTE/RTE_valid/RTE_slice:has_date:pred/accuracy': 0.9324324324324325,\n",
       " 'RTE/RTE_valid/RTE_slice:BASE:ind/accuracy': 0.5306859205776173,\n",
       " 'RTE/RTE_valid/RTE_slice:BASE:pred/accuracy': 0.9169675090252708}"
      ]
     },
     "execution_count": 24,
     "metadata": {},
     "output_type": "execute_result"
    }
   ],
   "source": [
    "slice_model.score(eval_payload)"
   ]
  },
  {
   "cell_type": "code",
   "execution_count": null,
   "metadata": {},
   "outputs": [],
   "source": []
  }
 ],
 "metadata": {
  "kernelspec": {
   "display_name": "Python 3",
   "language": "python",
   "name": "python3"
  },
  "language_info": {
   "codemirror_mode": {
    "name": "ipython",
    "version": 3
   },
   "file_extension": ".py",
   "mimetype": "text/x-python",
   "name": "python",
   "nbconvert_exporter": "python",
   "pygments_lexer": "ipython3",
   "version": "3.6.7"
  }
 },
 "nbformat": 4,
 "nbformat_minor": 2
}
