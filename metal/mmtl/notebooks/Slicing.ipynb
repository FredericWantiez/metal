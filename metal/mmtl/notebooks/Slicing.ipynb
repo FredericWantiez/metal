{
 "cells": [
  {
   "cell_type": "code",
   "execution_count": 1,
   "metadata": {
    "scrolled": true
   },
   "outputs": [],
   "source": [
    "%load_ext autoreload\n",
    "%autoreload 2"
   ]
  },
  {
   "cell_type": "code",
   "execution_count": 2,
   "metadata": {
    "scrolled": true
   },
   "outputs": [],
   "source": [
    "task_names = [\n",
    "#     \"COLA\", \n",
    "#     \"SST2\",\n",
    "#     \"MNLI\",\n",
    "    \"RTE\",\n",
    "#     \"WNLI\",\n",
    "#     \"QQP\",\n",
    "#     \"MRPC\",\n",
    "#     \"STSB\",\n",
    "#     \"QNLI\",\n",
    "#     \"SPACY_POS\",\n",
    "#     \"SPACY_NER\",\n",
    "#     \"THIRD\",\n",
    "#     \"BLEU\",\n",
    "]\n"
   ]
  },
  {
   "cell_type": "code",
   "execution_count": 3,
   "metadata": {},
   "outputs": [],
   "source": [
    "SEED = 1"
   ]
  },
  {
   "cell_type": "markdown",
   "metadata": {},
   "source": [
    "## Load previously trained model\n",
    "Hint: make sure the `bert_model` is initialized correctly!"
   ]
  },
  {
   "cell_type": "code",
   "execution_count": 4,
   "metadata": {},
   "outputs": [],
   "source": [
    "task_kwargs = {\n",
    "    \"dl_kwargs\": {\"batch_size\": 8},\n",
    "#     freeze_bert=True,\n",
    "    \"bert_model\": 'bert-base-cased',\n",
    "    \"max_len\": 200   \n",
    "}"
   ]
  },
  {
   "cell_type": "code",
   "execution_count": 5,
   "metadata": {
    "scrolled": true
   },
   "outputs": [
    {
     "name": "stdout",
     "output_type": "stream",
     "text": [
      "Better speed can be achieved with apex installed from https://www.github.com/nvidia/apex.\n",
      "Using random seed: 817521\n",
      "Loading RTE Dataset\n"
     ]
    },
    {
     "data": {
      "application/vnd.jupyter.widget-view+json": {
       "model_id": "707a35cbb11140058553f59a964cdf92",
       "version_major": 2,
       "version_minor": 0
      },
      "text/plain": [
       "HBox(children=(IntProgress(value=0, max=2490), HTML(value='')))"
      ]
     },
     "metadata": {},
     "output_type": "display_data"
    },
    {
     "name": "stdout",
     "output_type": "stream",
     "text": [
      "\n"
     ]
    },
    {
     "data": {
      "application/vnd.jupyter.widget-view+json": {
       "model_id": "33919772e8fe415694a41fae20c1ba89",
       "version_major": 2,
       "version_minor": 0
      },
      "text/plain": [
       "HBox(children=(IntProgress(value=0, max=277), HTML(value='')))"
      ]
     },
     "metadata": {},
     "output_type": "display_data"
    },
    {
     "name": "stdout",
     "output_type": "stream",
     "text": [
      "\n"
     ]
    },
    {
     "data": {
      "application/vnd.jupyter.widget-view+json": {
       "model_id": "3782cd3e6e5b4471a1302b6f69aab22d",
       "version_major": 2,
       "version_minor": 0
      },
      "text/plain": [
       "HBox(children=(IntProgress(value=0, max=3000), HTML(value='')))"
      ]
     },
     "metadata": {},
     "output_type": "display_data"
    },
    {
     "name": "stdout",
     "output_type": "stream",
     "text": [
      "\n",
      "CPU times: user 29.9 s, sys: 4.55 s, total: 34.5 s\n",
      "Wall time: 1min 11s\n"
     ]
    }
   ],
   "source": [
    "%%time\n",
    "from metal.mmtl.glue.glue_tasks import create_glue_tasks_payloads\n",
    "\n",
    "# Create tasks and payloads\n",
    "tasks, payloads = create_glue_tasks_payloads(task_names, **task_kwargs)"
   ]
  },
  {
   "cell_type": "code",
   "execution_count": 6,
   "metadata": {},
   "outputs": [
    {
     "data": {
      "text/plain": [
       "([ClassificationTask(name=RTE, loss_multiplier=1.0)],\n",
       " [Payload(RTE_train: labels_to_tasks=[{'RTE_gold': 'RTE'}], split=train),\n",
       "  Payload(RTE_valid: labels_to_tasks=[{'RTE_gold': 'RTE'}], split=valid),\n",
       "  Payload(RTE_test: labels_to_tasks=[{'RTE_gold': 'RTE'}], split=test)])"
      ]
     },
     "execution_count": 6,
     "metadata": {},
     "output_type": "execute_result"
    }
   ],
   "source": [
    "tasks, payloads"
   ]
  },
  {
   "cell_type": "code",
   "execution_count": 7,
   "metadata": {},
   "outputs": [],
   "source": [
    "from metal.mmtl.metal_model import MetalModel\n",
    "\n",
    "model = MetalModel(tasks, seed=SEED, verbose=False)"
   ]
  },
  {
   "cell_type": "markdown",
   "metadata": {},
   "source": [
    "#### Sanity check that task head is trained!"
   ]
  },
  {
   "cell_type": "code",
   "execution_count": 8,
   "metadata": {},
   "outputs": [],
   "source": [
    "# model.score(payloads[1])"
   ]
  },
  {
   "cell_type": "markdown",
   "metadata": {},
   "source": [
    "## Define slices for evaluation"
   ]
  },
  {
   "cell_type": "code",
   "execution_count": 9,
   "metadata": {
    "scrolled": true
   },
   "outputs": [
    {
     "name": "stdout",
     "output_type": "stream",
     "text": [
      "Using random seed: 128037\n",
      "Loading RTE Dataset\n"
     ]
    },
    {
     "data": {
      "application/vnd.jupyter.widget-view+json": {
       "model_id": "9491bb975aa24442988c6bad5be43f7a",
       "version_major": 2,
       "version_minor": 0
      },
      "text/plain": [
       "HBox(children=(IntProgress(value=0, max=2490), HTML(value='')))"
      ]
     },
     "metadata": {},
     "output_type": "display_data"
    },
    {
     "name": "stdout",
     "output_type": "stream",
     "text": [
      "\n"
     ]
    },
    {
     "data": {
      "application/vnd.jupyter.widget-view+json": {
       "model_id": "068625ca28a04439bfc8eb927c057ccb",
       "version_major": 2,
       "version_minor": 0
      },
      "text/plain": [
       "HBox(children=(IntProgress(value=0, max=277), HTML(value='')))"
      ]
     },
     "metadata": {},
     "output_type": "display_data"
    },
    {
     "name": "stdout",
     "output_type": "stream",
     "text": [
      "\n"
     ]
    },
    {
     "data": {
      "application/vnd.jupyter.widget-view+json": {
       "model_id": "813c7ea39e1e4595b0d79fe0bd9a8b35",
       "version_major": 2,
       "version_minor": 0
      },
      "text/plain": [
       "HBox(children=(IntProgress(value=0, max=3000), HTML(value='')))"
      ]
     },
     "metadata": {},
     "output_type": "display_data"
    },
    {
     "name": "stdout",
     "output_type": "stream",
     "text": [
      "\n",
      "Added label_set with 1003/2490 labels for task RTE:dash_semicolon to payload RTE_train.\n",
      "Added label_set with 64/2490 labels for task RTE:more_people to payload RTE_train.\n",
      "Added label_set with 116/277 labels for task RTE:dash_semicolon to payload RTE_valid.\n",
      "Added label_set with 12/277 labels for task RTE:more_people to payload RTE_valid.\n",
      "Added label_set with 1103/3000 labels for task RTE:dash_semicolon to payload RTE_test.\n",
      "Added label_set with 67/3000 labels for task RTE:more_people to payload RTE_test.\n",
      "CPU times: user 23 s, sys: 2.87 s, total: 25.9 s\n",
      "Wall time: 48.1 s\n"
     ]
    }
   ],
   "source": [
    "%%time\n",
    "from metal.mmtl.glue.glue_tasks import create_glue_tasks_payloads\n",
    "\n",
    "# define slices\n",
    "slice_dict = {  # A map of the slices that apply to each task\n",
    "    \"RTE\": [\"dash_semicolon\", \"more_people\"]\n",
    "}\n",
    "\n",
    "# Create tasks and payloads\n",
    "task_kwargs.update({\"slice_dict\": slice_dict})\n",
    "_, payloads_slice = create_glue_tasks_payloads(\n",
    "    task_names, **task_kwargs\n",
    ")"
   ]
  },
  {
   "cell_type": "code",
   "execution_count": 10,
   "metadata": {},
   "outputs": [
    {
     "data": {
      "text/plain": [
       "[Payload(RTE_train: labels_to_tasks=[{'RTE_gold': 'RTE', 'RTE_slice:dash_semicolon': 'RTE:dash_semicolon', 'RTE_slice:more_people': 'RTE:more_people'}], split=train),\n",
       " Payload(RTE_valid: labels_to_tasks=[{'RTE_gold': 'RTE', 'RTE_slice:dash_semicolon': 'RTE:dash_semicolon', 'RTE_slice:more_people': 'RTE:more_people'}], split=valid),\n",
       " Payload(RTE_test: labels_to_tasks=[{'RTE_gold': 'RTE', 'RTE_slice:dash_semicolon': 'RTE:dash_semicolon', 'RTE_slice:more_people': 'RTE:more_people'}], split=test)]"
      ]
     },
     "execution_count": 10,
     "metadata": {},
     "output_type": "execute_result"
    }
   ],
   "source": [
    "payloads_slice"
   ]
  },
  {
   "cell_type": "markdown",
   "metadata": {},
   "source": [
    "#### Sanity check the number of examples in the train set"
   ]
  },
  {
   "cell_type": "code",
   "execution_count": 11,
   "metadata": {},
   "outputs": [],
   "source": [
    "import numpy as np\n",
    "def count_num_labels(labels):\n",
    "    return np.sum(np.array(labels) != 0)"
   ]
  },
  {
   "cell_type": "code",
   "execution_count": 12,
   "metadata": {},
   "outputs": [
    {
     "name": "stdout",
     "output_type": "stream",
     "text": [
      "RTE_gold 2490\n",
      "RTE:dash_semicolon 1003\n",
      "RTE:more_people 64\n"
     ]
    }
   ],
   "source": [
    "dataset = payloads_slice[0].data_loader.dataset\n",
    "for labelset_name, labels in dataset.labels.items():\n",
    "    print(labelset_name, count_num_labels(labels))"
   ]
  },
  {
   "cell_type": "markdown",
   "metadata": {},
   "source": [
    "### Evaluate baseline model on the slice of interest"
   ]
  },
  {
   "cell_type": "code",
   "execution_count": 13,
   "metadata": {},
   "outputs": [],
   "source": [
    "# model.score(payloads_slice[1])"
   ]
  },
  {
   "cell_type": "code",
   "execution_count": 14,
   "metadata": {},
   "outputs": [
    {
     "ename": "AssertionError",
     "evalue": "",
     "output_type": "error",
     "traceback": [
      "\u001b[0;31m---------------------------------------------------------------------------\u001b[0m",
      "\u001b[0;31mAssertionError\u001b[0m                            Traceback (most recent call last)",
      "\u001b[0;32m<ipython-input-14-a871fdc9ebee>\u001b[0m in \u001b[0;36m<module>\u001b[0;34m\u001b[0m\n\u001b[0;32m----> 1\u001b[0;31m \u001b[0;32massert\u001b[0m \u001b[0;32mFalse\u001b[0m\u001b[0;34m\u001b[0m\u001b[0;34m\u001b[0m\u001b[0m\n\u001b[0m",
      "\u001b[0;31mAssertionError\u001b[0m: "
     ]
    }
   ],
   "source": [
    "assert False"
   ]
  },
  {
   "cell_type": "markdown",
   "metadata": {},
   "source": [
    "## Finetune model on slice of interest"
   ]
  },
  {
   "cell_type": "code",
   "execution_count": null,
   "metadata": {
    "scrolled": false
   },
   "outputs": [],
   "source": [
    "from metal.mmtl.metal_model import MetalModel\n",
    "\n",
    "from metal.mmtl.trainer import MultitaskTrainer\n",
    "trainer = MultitaskTrainer(seed=SEED)"
   ]
  },
  {
   "cell_type": "markdown",
   "metadata": {},
   "source": [
    "Uncomment below to only finetune on the slices, not the original task\n"
   ]
  },
  {
   "cell_type": "code",
   "execution_count": null,
   "metadata": {},
   "outputs": [],
   "source": [
    "# # only finetune on the slices, not the original task\n",
    "# for p in payloads_slice:\n",
    "#     p.task_names.remove('COLA')\n",
    "# payloads_slice"
   ]
  },
  {
   "cell_type": "markdown",
   "metadata": {},
   "source": [
    "NOTE: We are training on a different set of payloads than we initialized the model with."
   ]
  },
  {
   "cell_type": "code",
   "execution_count": null,
   "metadata": {
    "scrolled": true
   },
   "outputs": [],
   "source": [
    "trainer.train_model(\n",
    "    model,\n",
    "    payloads_slice,\n",
    "    checkpoint_metric=\"RTE/RTE_valid/accuracy\",\n",
    "    checkpoint_metric_mode=\"max\",\n",
    "    checkoint_best=True,\n",
    "    writer=\"tensorboard\",\n",
    "    optimizer=\"adamax\",\n",
    "    lr=5e-5,\n",
    "    l2=1e-3,\n",
    "    log_every=0.1, \n",
    "    score_every=0.1,\n",
    "    n_epochs=3,\n",
    "    progress_bar=True,\n",
    "    checkpoint_tasks=True,\n",
    "    checkpoint_cleanup=False\n",
    ")"
   ]
  },
  {
   "cell_type": "markdown",
   "metadata": {},
   "source": [
    "#### Did we improve?"
   ]
  },
  {
   "cell_type": "markdown",
   "metadata": {},
   "source": [
    "TODO: The final metrics score printed above may be inaccurate... \n",
    "\n",
    "Better way to evaluate is by re-evaluating on the checkpoint with the best weights."
   ]
  },
  {
   "cell_type": "code",
   "execution_count": null,
   "metadata": {
    "scrolled": true
   },
   "outputs": [],
   "source": [
    "from metal.mmtl.metal_model import MetalModel\n",
    "model.score(payloads_slice[1])"
   ]
  },
  {
   "cell_type": "code",
   "execution_count": null,
   "metadata": {},
   "outputs": [],
   "source": []
  }
 ],
 "metadata": {
  "kernelspec": {
   "display_name": "Python 3",
   "language": "python",
   "name": "python3"
  },
  "language_info": {
   "codemirror_mode": {
    "name": "ipython",
    "version": 3
   },
   "file_extension": ".py",
   "mimetype": "text/x-python",
   "name": "python",
   "nbconvert_exporter": "python",
   "pygments_lexer": "ipython3",
   "version": "3.6.7"
  }
 },
 "nbformat": 4,
 "nbformat_minor": 2
}
