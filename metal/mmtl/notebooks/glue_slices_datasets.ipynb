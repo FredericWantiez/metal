{
 "cells": [
  {
   "cell_type": "code",
   "execution_count": 7,
   "metadata": {},
   "outputs": [],
   "source": [
    "import os\n",
    "import codecs"
   ]
  },
  {
   "cell_type": "markdown",
   "metadata": {},
   "source": [
    "## RTE Slices"
   ]
  },
  {
   "cell_type": "code",
   "execution_count": 60,
   "metadata": {},
   "outputs": [],
   "source": [
    "split = 'dev'\n",
    "tsv_path = f'/dfs/scratch0/chami/glue_slices/RTE/{split}.tsv'\n",
    "save_path = f'/dfs/scratch0/chami/glue_slices/RTE_dash/{split}.tsv'"
   ]
  },
  {
   "cell_type": "code",
   "execution_count": 61,
   "metadata": {},
   "outputs": [
    {
     "name": "stdout",
     "output_type": "stream",
     "text": [
      "slice prop: 109/277\n"
     ]
    }
   ],
   "source": [
    "slice_fn = lambda sent: '-' in sent or ';' in sent\n",
    "sent1_idx = 1\n",
    "sent2_idx = 2\n",
    "filtered_rows = []\n",
    "all_rows = []\n",
    "with codecs.open(tsv_path, \"r\", \"utf-8\") as data_fh:\n",
    "    filtered_rows.append(data_fh.readline())\n",
    "    all_rows.append(data_fh.readline())\n",
    "    for i, row in enumerate(data_fh):\n",
    "        sent1 = row.split('\\t')[sent1_idx]\n",
    "        in_slice = slice_fn(sent1)\n",
    "        if in_slice:\n",
    "            filtered_rows.append(row)\n",
    "        all_rows.append(row)\n",
    "print(f'slice prop: {len(filtered_rows)}/{len(all_rows)}')"
   ]
  },
  {
   "cell_type": "code",
   "execution_count": 45,
   "metadata": {},
   "outputs": [
    {
     "data": {
      "text/plain": [
       "109"
      ]
     },
     "execution_count": 45,
     "metadata": {},
     "output_type": "execute_result"
    }
   ],
   "source": [
    "with codecs.open(save_path, \"w\", \"utf-8\") as data_fh:\n",
    "    for row in filtered_rows:\n",
    "        data_fh.write(row)"
   ]
  },
  {
   "cell_type": "markdown",
   "metadata": {},
   "source": [
    "## COLA Slices "
   ]
  },
  {
   "cell_type": "code",
   "execution_count": 77,
   "metadata": {},
   "outputs": [],
   "source": [
    "split = 'train'\n",
    "tsv_path = f'/dfs/scratch0/chami/glue_slices/CoLA/{split}.tsv'\n",
    "save_path = f'/dfs/scratch0/chami/glue_slices/CoLA_long/{split}.tsv'"
   ]
  },
  {
   "cell_type": "code",
   "execution_count": 78,
   "metadata": {},
   "outputs": [
    {
     "name": "stdout",
     "output_type": "stream",
     "text": [
      "slice prop: 1429/8550\n"
     ]
    }
   ],
   "source": [
    "slice_fn = lambda sent: len(sent.split()) > 10\n",
    "sent1_idx = 3\n",
    "filtered_rows = []\n",
    "all_rows = []\n",
    "with codecs.open(tsv_path, \"r\", \"utf-8\") as data_fh:\n",
    "    filtered_rows.append(data_fh.readline())\n",
    "    all_rows.append(data_fh.readline())\n",
    "    for i, row in enumerate(data_fh):\n",
    "        sent1 = row.split('\\t')[sent1_idx]\n",
    "        #print(sent1, len(sent1.split()))\n",
    "        in_slice = slice_fn(sent1)\n",
    "        if in_slice:\n",
    "            filtered_rows.append(row)\n",
    "        all_rows.append(row)\n",
    "print(f'slice prop: {len(filtered_rows)}/{len(all_rows)}')"
   ]
  },
  {
   "cell_type": "code",
   "execution_count": 80,
   "metadata": {},
   "outputs": [],
   "source": [
    "with codecs.open(save_path, \"w\", \"utf-8\") as data_fh:\n",
    "    for row in filtered_rows:\n",
    "        data_fh.write(row)"
   ]
  },
  {
   "cell_type": "code",
   "execution_count": null,
   "metadata": {},
   "outputs": [],
   "source": []
  }
 ],
 "metadata": {
  "kernelspec": {
   "display_name": "Python (VCmmtl)",
   "language": "python",
   "name": "vcmmtl"
  },
  "language_info": {
   "codemirror_mode": {
    "name": "ipython",
    "version": 3
   },
   "file_extension": ".py",
   "mimetype": "text/x-python",
   "name": "python",
   "nbconvert_exporter": "python",
   "pygments_lexer": "ipython3",
   "version": "3.6.7"
  }
 },
 "nbformat": 4,
 "nbformat_minor": 2
}
