{
 "cells": [
  {
   "cell_type": "markdown",
   "metadata": {},
   "source": [
    "# Slicing CDR Relation Extraction "
   ]
  },
  {
   "cell_type": "code",
   "execution_count": null,
   "metadata": {},
   "outputs": [],
   "source": [
    "%load_ext autoreload\n",
    "%autoreload 2"
   ]
  },
  {
   "cell_type": "code",
   "execution_count": null,
   "metadata": {},
   "outputs": [],
   "source": [
    "import os\n",
    "import sys\n",
    "sys.path.append('/dfs/scratch0/vschen/metal')\n",
    "\n",
    "import metal\n",
    "import torch\n",
    "from torch.utils.data import Dataset, DataLoader\n",
    "import numpy as np\n",
    "np.set_printoptions(precision=4, suppress=True)"
   ]
  },
  {
   "cell_type": "code",
   "execution_count": null,
   "metadata": {},
   "outputs": [],
   "source": [
    "print('PyTorch: ', torch.__version__)\n",
    "print('MeTaL:   ', metal.__version__)\n",
    "print('Python:  ', sys.version)\n",
    "print('Python:  ', sys.version_info)"
   ]
  },
  {
   "cell_type": "markdown",
   "metadata": {},
   "source": [
    "## Initalize CDR Dataset\n",
    "To uncompress the SQLite db: ```bzip2 -d cdr.db.bz2```"
   ]
  },
  {
   "cell_type": "code",
   "execution_count": null,
   "metadata": {},
   "outputs": [],
   "source": [
    "from metal.contrib.backends.wrapper import SnorkelDataset\n",
    "import os\n",
    "\n",
    "db_conn_str   = os.path.join(os.getcwd(),\"cdr.db\")\n",
    "candidate_def = ['ChemicalDisease', ['chemical', 'disease']]\n",
    "\n",
    "train, dev, test = SnorkelDataset.splits(db_conn_str, \n",
    "                                         candidate_def, \n",
    "                                         max_seq_len=125)\n",
    "\n",
    "print(f'[TRAIN] {len(train)}')\n",
    "print(f'[DEV]   {len(dev)}')\n",
    "print(f'[TEST]  {len(test)}')"
   ]
  },
  {
   "cell_type": "markdown",
   "metadata": {},
   "source": [
    "## Get Pretrained Embeddings\n",
    "\n",
    "Download [GloVe embeddings](http://nlp.stanford.edu/data/glove.6B.zip):\n",
    "`wget http://nlp.stanford.edu/data/glove.6B.zip \\\n",
    "&& mkdir -p glove.6B \\\n",
    "&& unzip glove.6B.zip -d glove.6B \\\n",
    "&& rm glove.6B.zip`"
   ]
  },
  {
   "cell_type": "code",
   "execution_count": null,
   "metadata": {},
   "outputs": [],
   "source": [
    "from embeddings import EmbeddingLoader, load_embeddings\n",
    "emb_path  = \"../glove.6B/glove.6B.50d.txt\"\n",
    "embs  = EmbeddingLoader(emb_path, fmt='text')"
   ]
  },
  {
   "cell_type": "markdown",
   "metadata": {},
   "source": [
    "## Generate `L_*` to target slices"
   ]
  },
  {
   "cell_type": "code",
   "execution_count": null,
   "metadata": {
    "scrolled": true
   },
   "outputs": [],
   "source": [
    "from labeling_functions import LFs\n",
    "print ([lf.__name__ for lf in LFs])"
   ]
  },
  {
   "cell_type": "code",
   "execution_count": null,
   "metadata": {},
   "outputs": [],
   "source": [
    "%%time \n",
    "from snorkel import SnorkelSession\n",
    "session = SnorkelSession()\n",
    "\n",
    "from snorkel.annotations import LabelAnnotator\n",
    "labeler = LabelAnnotator(lfs=LFs)\n",
    "L_train = labeler.apply(split=0)\n",
    "L_dev = labeler.apply(split=1) # used for debugging\n",
    "L_test = labeler.apply(split=2) # used for evaluation\n",
    "\n",
    "from snorkel.learning.structure import DependencySelector\n",
    "ds = DependencySelector()\n",
    "deps = ds.select(L_train, threshold=0.1)\n",
    "from snorkel.learning import GenerativeModel\n",
    "\n",
    "# need to extract `accs` from gen_model\n",
    "gen_model = GenerativeModel(lf_propensity=True)\n",
    "gen_model.train(\n",
    "    L_train, deps=deps, decay=0.95, step_size=0.1/L_train.shape[0], reg_param=0.0\n",
    ")\n",
    "\n",
    "accs = np.array(gen_model.learned_lf_stats()['Accuracy'])\n",
    "accs[np.isnan(accs)] = 0\n",
    "accs = np.minimum(accs, 0.999)\n",
    "\n",
    "gen_marginals = gen_model.marginals(L_train)"
   ]
  },
  {
   "cell_type": "code",
   "execution_count": null,
   "metadata": {},
   "outputs": [],
   "source": [
    "L = L_train.copy()\n",
    "L[L==-1] = 2 # convert to multiclass\n",
    "Y_dev = np.array([ex[1] for ex in dev])"
   ]
  },
  {
   "cell_type": "code",
   "execution_count": null,
   "metadata": {},
   "outputs": [],
   "source": [
    "from metal.label_model import LabelModel\n",
    "label_model = LabelModel(k=2, seed=123)\n",
    "label_model.train_model(L, Y_dev=Y_dev)\n",
    "label_model.score((L_dev, Y_dev))"
   ]
  },
  {
   "cell_type": "markdown",
   "metadata": {},
   "source": [
    "### Weak Labels in Dataset"
   ]
  },
  {
   "cell_type": "code",
   "execution_count": null,
   "metadata": {},
   "outputs": [],
   "source": [
    "metal_marginals = label_model.predict_proba(L)\n",
    "metal_marginals"
   ]
  },
  {
   "cell_type": "code",
   "execution_count": null,
   "metadata": {},
   "outputs": [],
   "source": [
    "snorkel_marginals = np.vstack((gen_marginals, 1-gen_marginals)).T\n",
    "snorkel_marginals"
   ]
  },
  {
   "cell_type": "code",
   "execution_count": null,
   "metadata": {},
   "outputs": [],
   "source": [
    "from metal.contrib.slicing.sqlite_wrapper \\\n",
    "    import SnorkelDataset as SnorkelSliceDataset\n",
    "\n",
    "train_metal = SnorkelSliceDataset(\n",
    "    db_conn_str,\n",
    "    candidate_def,\n",
    "    split=0,\n",
    "    train_marginals=metal_marginals\n",
    ")\n",
    "\n",
    "train_snorkel = SnorkelSliceDataset(\n",
    "    db_conn_str,\n",
    "    candidate_def,\n",
    "    split=0,\n",
    "    train_marginals=snorkel_marginals\n",
    ")"
   ]
  },
  {
   "cell_type": "markdown",
   "metadata": {},
   "source": [
    "### Custom Slicing Dataset"
   ]
  },
  {
   "cell_type": "code",
   "execution_count": null,
   "metadata": {},
   "outputs": [],
   "source": [
    "train_slice = SnorkelSliceDataset(\n",
    "    db_conn_str,\n",
    "    candidate_def,\n",
    "    split=0,\n",
    "    L_train=L_train.todense()\n",
    ")\n",
    "\n",
    "train_slice_metal = SnorkelSliceDataset(\n",
    "    db_conn_str,\n",
    "    candidate_def,\n",
    "    split=0,\n",
    "    L_train=L_train.todense(),\n",
    "    train_marginals=metal_marginals\n",
    ")\n",
    "\n",
    "train_slice_snorkel = SnorkelSliceDataset(\n",
    "    db_conn_str,\n",
    "    candidate_def,\n",
    "    split=0,\n",
    "    L_train=L_train.todense(),\n",
    "    train_marginals=snorkel_marginals\n",
    ")"
   ]
  },
  {
   "cell_type": "code",
   "execution_count": null,
   "metadata": {},
   "outputs": [],
   "source": [
    "from metal.contrib.slicing.online_dp import SliceDPModel\n",
    "from metal.end_model import EndModel\n",
    "from metal.modules import LSTMModule\n",
    "def init_model(use_end_model=False, r=None, reweight=None):\n",
    "    wembs = load_embeddings(train.word_dict, embs)\n",
    "    lstm = LSTMModule(embed_size=50, \n",
    "                      hidden_size=100, \n",
    "                      embeddings=wembs,\n",
    "                      lstm_reduction='attention', \n",
    "                      dropout=0.0, \n",
    "                      num_layers=1, \n",
    "                      freeze=False)\n",
    "    if use_end_model:\n",
    "        model = EndModel([200, 2], input_module=lstm, seed=123, use_cuda=True)\n",
    "    else:\n",
    "        input_layer_config = {\n",
    "            \"input_relu\": False,\n",
    "            \"input_batchnorm\": False,\n",
    "            \"input_dropout\": 0.0,\n",
    "        }\n",
    "        model = SliceDPModel(lstm, accs, r, reweight, seed=123, use_cuda=True, input_layer_config=input_layer_config)\n",
    "        \n",
    "    model.config['train_config']['optimizer_config']['optimizer_common']['lr'] = 0.01\n",
    "    model.config['train_config']['validation_metric'] = 'f1'\n",
    "    model.config['train_config']['batch_size'] = 32\n",
    "    model.config['train_config']['n_epochs'] = 10\n",
    "    return model\n",
    "\n",
    "from metal.modules import LSTMModule\n",
    "from metal.tuners import RandomSearchTuner\n",
    "\n",
    "\n",
    "def search_slice_weights(train_loader, dev_loader, r, rw, max_search=1, search_space=None, log_dir='./run_logs'):\n",
    "    wembs = load_embeddings(train.word_dict, embs)\n",
    "    lstm = LSTMModule(embed_size=50, \n",
    "                      hidden_size=100, \n",
    "                      embeddings=wembs,\n",
    "                      lstm_reduction='attention', \n",
    "                      dropout=0.0, \n",
    "                      num_layers=1, \n",
    "                      freeze=False)\n",
    "    \n",
    "    searcher = RandomSearchTuner(SliceDPModel, validation_metric='f1', log_dir=log_dir)\n",
    "\n",
    "    if search_space is None:\n",
    "        search_space = {\n",
    "            \"slice_weight\": [0, 0.25, 0.5, 0.75, 1.0]\n",
    "        }\n",
    "\n",
    "    input_layer_config = {\n",
    "        \"input_relu\": False,\n",
    "        \"input_batchnorm\": False,\n",
    "        \"input_dropout\": 0.0,\n",
    "    }\n",
    "    \n",
    "    trained_model = searcher.search(\n",
    "        search_space,\n",
    "        dev_loader,\n",
    "        train_args=[train_loader],\n",
    "        init_args=[lstm, accs, r, reweight],\n",
    "        init_kwargs={\"use_cuda\": True, \"input_layer_config\": input_layer_config},\n",
    "        train_kwargs={\n",
    "            \"lr\": 0.01,\n",
    "            \"batch_size\": 32,\n",
    "            \"n_epochs\": 10\n",
    "        },\n",
    "        max_search=max_search\n",
    "    )\n",
    "    return trained_model"
   ]
  },
  {
   "cell_type": "markdown",
   "metadata": {},
   "source": [
    "## (a) `Oracle`: EndModel Trained on Full GT"
   ]
  },
  {
   "cell_type": "code",
   "execution_count": null,
   "metadata": {},
   "outputs": [],
   "source": [
    "oracle = init_model(use_end_model=True)\n",
    "%time oracle.train_model(train, dev_data=dev)\n",
    "oracle_score = oracle.score(test, metric=['precision', 'recall', 'f1'])"
   ]
  },
  {
   "cell_type": "markdown",
   "metadata": {},
   "source": [
    "## (b) `BaseWeak`: EndModel trained on weak labels"
   ]
  },
  {
   "cell_type": "code",
   "execution_count": null,
   "metadata": {},
   "outputs": [],
   "source": [
    "from metal.end_model import EndModel\n",
    "from metal.modules import LSTMModule\n",
    "\n",
    "base_weak = init_model(use_end_model=True)\n",
    "%time base_weak.train_model(train_snorkel, dev_data=dev)\n",
    "base_weak_score = base_weak.score(test, metric=['precision', 'recall', 'f1'])"
   ]
  },
  {
   "cell_type": "markdown",
   "metadata": {},
   "source": [
    "## (e) `SliceOursWeak`: Slice Model with $\\tilde{Y}$ priors"
   ]
  },
  {
   "cell_type": "code",
   "execution_count": null,
   "metadata": {
    "scrolled": true
   },
   "outputs": [],
   "source": [
    "# slice_ours_weak = init_model(r=200, reweight=True)\n",
    "# %time slice_ours_weak.train_model(train_slice_snorkel, dev_data=dev)\n",
    "search_space = {\n",
    "    \"slice_weight\": {\"range\": [0,1.0] ,\"scale\": \"linear\"}\n",
    "}\n",
    "%time slice_ours_weak = search_slice_weights(train_slice_snorkel, dev, r=200, rw=True, \\\n",
    "                                             max_search=10, search_space=search_space)\n",
    "\n",
    "slice_ours_weak_score = slice_ours_weak.score(test, metric=['precision', 'recall', 'f1'])"
   ]
  },
  {
   "cell_type": "markdown",
   "metadata": {},
   "source": [
    "## (f) `SliceUWWeak`: Unweighted Slice model with $\\tilde{Y}$ priors"
   ]
  },
  {
   "cell_type": "code",
   "execution_count": null,
   "metadata": {},
   "outputs": [],
   "source": [
    "# slice_uw_weak = init_model(r=200, rw=False)\n",
    "# %time slice_uw_weak.train_model(train_slice_snorkel, dev_data=dev)\n",
    "search_space = {\n",
    "    \"slice_weight\": {\"range\": [0,1.0] ,\"scale\": \"linear\"}\n",
    "}\n",
    "%time slice_uw_weak = search_slice_weights(train_slice_snorkel, dev, r=200, rw=False, \\\n",
    "                                             max_search=10, search_space=search_space)\n",
    "\n",
    "slice_uw_weak_score = slice_uw_weak.score(test, metric=['precision', 'recall', 'f1'])"
   ]
  },
  {
   "cell_type": "markdown",
   "metadata": {},
   "source": [
    "## Overall Scores"
   ]
  },
  {
   "cell_type": "code",
   "execution_count": null,
   "metadata": {},
   "outputs": [],
   "source": [
    "print (\"Oracle_score:\", oracle_score)\n",
    "print (\"base_weak_score:\", base_weak_score)\n",
    "print (\"slice_ours_weak_score:\", slice_ours_weak_score)\n",
    "print (\"slice_uw_weak_score:\", slice_uw_weak_score)"
   ]
  },
  {
   "cell_type": "markdown",
   "metadata": {},
   "source": [
    "## Slice-specific scores"
   ]
  },
  {
   "cell_type": "code",
   "execution_count": null,
   "metadata": {},
   "outputs": [],
   "source": [
    "# TODO: don't call private fns\n",
    "Yp_oracle, Y = oracle._get_predictions(test)\n",
    "Yp_base_weak, Y = base_weak._get_predictions(test)\n",
    "Yp_slice_ours_weak, Y = slice_ours_weak._get_predictions(test)\n",
    "Yp_slice_uw_weak, Y = slice_uw_weak._get_predictions(test)"
   ]
  },
  {
   "cell_type": "markdown",
   "metadata": {},
   "source": [
    "#### `slice_ours` (re-weighting, accuracy priors) vs. `base_weak` (end_model trained on weak labels)"
   ]
  },
  {
   "cell_type": "code",
   "execution_count": null,
   "metadata": {},
   "outputs": [],
   "source": [
    "L_test = L_test.todense()"
   ]
  },
  {
   "cell_type": "code",
   "execution_count": null,
   "metadata": {},
   "outputs": [],
   "source": [
    "from metal.contrib.slicing.experiment_utils import compare_LF_slices"
   ]
  },
  {
   "cell_type": "markdown",
   "metadata": {},
   "source": [
    "#### `slice_ours_weak` (slice model with weak priors + reweighting) vs. `base_weak` (end_model trained on weak labels)"
   ]
  },
  {
   "cell_type": "code",
   "execution_count": null,
   "metadata": {
    "scrolled": false
   },
   "outputs": [],
   "source": [
    "print (\"slice_ours_weak vs base_weak\")\n",
    "compare_LF_slices(Yp_slice_ours_weak, Yp_base_weak,\n",
    "                  Y, L_test, LFs, metric='accuracy', delta_threshold=0)"
   ]
  },
  {
   "cell_type": "markdown",
   "metadata": {},
   "source": [
    "#### `slice_ours_weak` vs. `Yp_slice_uw_weak` (unweighted slice model)"
   ]
  },
  {
   "cell_type": "code",
   "execution_count": null,
   "metadata": {},
   "outputs": [],
   "source": [
    "print (\"slice_ours_weak vs. slice_uw_weak\")\n",
    "compare_LF_slices(Yp_slice_ours_weak, Yp_slice_uw_weak,\n",
    "                  Y, L_test, LFs, metric='accuracy', delta_threshold=0)"
   ]
  },
  {
   "cell_type": "code",
   "execution_count": null,
   "metadata": {},
   "outputs": [],
   "source": [
    "print (\"slice_ours_weak vs. oracle\")\n",
    "compare_LF_slices(Yp_slice_ours_weak, Yp_oracle,\n",
    "                  Y, L_test, LFs, metric='accuracy', delta_threshold=0)"
   ]
  },
  {
   "cell_type": "code",
   "execution_count": null,
   "metadata": {},
   "outputs": [],
   "source": [
    "print (\"slice_uw_weak vs. base_weak\")\n",
    "compare_LF_slices(Yp_slice_uw_weak, Yp_base_weak,\n",
    "                  Y, L_test, LFs, metric='accuracy', delta_threshold=0)"
   ]
  }
 ],
 "metadata": {
  "kernelspec": {
   "display_name": "Python 3",
   "language": "python",
   "name": "python3"
  },
  "language_info": {
   "codemirror_mode": {
    "name": "ipython",
    "version": 3
   },
   "file_extension": ".py",
   "mimetype": "text/x-python",
   "name": "python",
   "nbconvert_exporter": "python",
   "pygments_lexer": "ipython3",
   "version": "3.6.7"
  }
 },
 "nbformat": 4,
 "nbformat_minor": 2
}
