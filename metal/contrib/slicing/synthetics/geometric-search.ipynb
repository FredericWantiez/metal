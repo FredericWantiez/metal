{
 "cells": [
  {
   "cell_type": "markdown",
   "metadata": {},
   "source": [
    "## Grid Search"
   ]
  },
  {
   "cell_type": "code",
   "execution_count": null,
   "metadata": {},
   "outputs": [],
   "source": [
    "from metal.contrib.slicing.synthetics.geometric_synthetics import generate_dataset\n",
    "from metal.utils import split_data\n",
    "from metal.contrib.backends.snorkel_gm_wrapper import SnorkelLabelModel\n",
    "\n",
    "NUM_TRIALS = 20\n",
    "NUM_SLICES = 5\n",
    "K = 2\n",
    "M = 20\n",
    "N = 5000\n",
    "seed = None\n",
    "\n",
    "Z_kwargs = {'num_slices': NUM_SLICES}\n",
    "L, X, Y, Z, targeting_lfs_idx = generate_dataset(K, M, N, \n",
    "                                                 Z_kwargs=Z_kwargs,\n",
    "                                                 return_targeting_lfs=True,\n",
    "                                                 seed=seed)\n",
    "\n",
    "Ls, Xs, Ys, Zs = split_data(L, X, Y, Z, splits=[0.5, 0.25, 0.25], shuffle=True)\n",
    "\n",
    "label_model = SnorkelLabelModel()\n",
    "label_model.train_model(Ls[0])\n",
    "Y_train = label_model.predict_proba(Ls[0])\n",
    "Ys[0] = Y_train"
   ]
  },
  {
   "cell_type": "code",
   "execution_count": null,
   "metadata": {},
   "outputs": [],
   "source": [
    "layer_out_dims = [2, 10, 10, 2]\n",
    "search_space = {\n",
    "    'n_epochs': [10, 20, 40],\n",
    "    'lr': {'range': [0.001, 1], 'scale': 'log'} ,\n",
    "    'l2': 0, #{'range': [0.0001, 10], 'scale': 'log'},\n",
    "    'slice_weight': [0.01, 0.05, 0.1, 0.2, 0.5],\n",
    "    # 'batch_size': None <-- This is handled in DataLoader\n",
    "}"
   ]
  },
  {
   "cell_type": "code",
   "execution_count": null,
   "metadata": {
    "scrolled": true
   },
   "outputs": [],
   "source": [
    "import torch\n",
    "from torch.utils.data import DataLoader\n",
    "\n",
    "from metal.tuners import RandomSearchTuner\n",
    "from metal.contrib.slicing.online_dp import SliceHatModel\n",
    "from metal.utils import SlicingDataset\n",
    "from metal.end_model import EndModel\n",
    "\n",
    "batch_size = 32\n",
    "L_train = torch.Tensor(Ls[0].todense())\n",
    "dataset = SlicingDataset(Xs[0], L_train, Ys[0])\n",
    "train_loader = DataLoader(dataset, batch_size=batch_size, shuffle=True)\n",
    "end_model = EndModel(layer_out_dims, verbose=False)\n",
    "\n",
    "tuner = RandomSearchTuner(SliceHatModel, log_dir='checkpoints')\n",
    "_ = tuner.search(\n",
    "    search_space,\n",
    "    dev_data=(Xs[1], Ys[1]),\n",
    "    max_search=10,\n",
    "    init_args=[end_model, M],\n",
    "    init_kwargs={'verbose': False},\n",
    "    train_args=[train_loader],\n",
    "    train_kwargs={'verbose': True, 'disable_prog_bar': True, 'print_every': 5},\n",
    "    verbose=True,\n",
    ")"
   ]
  },
  {
   "cell_type": "code",
   "execution_count": null,
   "metadata": {},
   "outputs": [],
   "source": []
  }
 ],
 "metadata": {
  "kernelspec": {
   "display_name": "Python [conda env:metal]",
   "language": "python",
   "name": "conda-env-metal-py"
  },
  "language_info": {
   "codemirror_mode": {
    "name": "ipython",
    "version": 3
   },
   "file_extension": ".py",
   "mimetype": "text/x-python",
   "name": "python",
   "nbconvert_exporter": "python",
   "pygments_lexer": "ipython3",
   "version": "3.6.8"
  }
 },
 "nbformat": 4,
 "nbformat_minor": 2
}
