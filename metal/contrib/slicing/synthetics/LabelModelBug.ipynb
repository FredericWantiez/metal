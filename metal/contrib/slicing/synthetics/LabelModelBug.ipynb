{
 "cells": [
  {
   "cell_type": "code",
   "execution_count": null,
   "metadata": {},
   "outputs": [],
   "source": [
    "# from metal.label_model import LabelModel\n",
    "\n",
    "# label_model = LabelModel(2)\n",
    "# label_model.train_model(Ls[0], Y_dev=Ys[1], n_epochs=1000, print_every=100)\n",
    "\n",
    "# c_probs_est = label_model.get_conditional_probs()\n",
    "# # err = np.mean(np.abs(data.c_probs - c_probs_est))\n",
    "# # print(err)\n",
    "# # c_probs_est.shape\n",
    "\n",
    "# learned_accs = []\n",
    "# for i_m in range(m):\n",
    "#     i = 3 * i_m\n",
    "#     learned_accs.append([c_probs_est[i+1,0]/sum(c_probs_est[i+1:i+3,0]), \n",
    "#                          c_probs_est[i+2,1]/sum(c_probs_est[i+1:i+3,1])])\n",
    "# learned_accs = np.array(learned_accs)\n",
    "\n",
    "# err = ((learned_accs - accs_hist)**2).sum()/m\n",
    "# print(f\"Average squared error in conditional accuracies:\\n{err}\")\n",
    "\n",
    "# Y_train_ps = label_model.predict_proba(Ls[0])\n",
    "\n",
    "# score = label_model.score((Ls[1], Ys[1]))\n",
    "\n",
    "# from metal.contrib.visualization.analysis import (\n",
    "#     plot_predictions_histogram, \n",
    "#     plot_probabilities_histogram,\n",
    "# )\n",
    "    \n",
    "# Y_dev_p = label_model.predict(Ls[1])\n",
    "# Y_dev_ps = label_model.predict_proba(Ls[1])\n",
    "# plot_probabilities_histogram(Y_dev_ps[:,0], title=\"Probablistic Label Distribution\")\n",
    "# plot_predictions_histogram(Y_dev_p, Ys[1], title=\"Label Distribution\")\n",
    "\n",
    "# np.save('synthetic_data.npy', [L, Y])\n",
    "\n",
    "# score = label_model.score((L, Y))"
   ]
  }
 ],
 "metadata": {
  "kernelspec": {
   "display_name": "Python [conda env:metal]",
   "language": "python",
   "name": "conda-env-metal-py"
  },
  "language_info": {
   "codemirror_mode": {
    "name": "ipython",
    "version": 3
   },
   "file_extension": ".py",
   "mimetype": "text/x-python",
   "name": "python",
   "nbconvert_exporter": "python",
   "pygments_lexer": "ipython3",
   "version": "3.6.8"
  }
 },
 "nbformat": 4,
 "nbformat_minor": 2
}
