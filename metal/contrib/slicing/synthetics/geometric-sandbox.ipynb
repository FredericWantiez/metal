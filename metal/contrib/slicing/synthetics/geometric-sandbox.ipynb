{
 "cells": [
  {
   "cell_type": "code",
   "execution_count": null,
   "metadata": {},
   "outputs": [],
   "source": [
    "%load_ext autoreload\n",
    "%autoreload 2\n",
    "%matplotlib inline\n",
    "\n",
    "import matplotlib.pyplot as plt\n",
    "from metal.contrib.slicing.synthetics.geometric_synthetics import *"
   ]
  },
  {
   "cell_type": "code",
   "execution_count": null,
   "metadata": {},
   "outputs": [],
   "source": [
    "k = 2\n",
    "m = 30\n",
    "n = 5000"
   ]
  },
  {
   "cell_type": "code",
   "execution_count": null,
   "metadata": {},
   "outputs": [],
   "source": [
    "L, X, Y, Z = generate_dataset(k, m, n, Z_kwargs={'num_slices': 3})"
   ]
  },
  {
   "cell_type": "markdown",
   "metadata": {},
   "source": [
    "### Analyze Data"
   ]
  },
  {
   "cell_type": "code",
   "execution_count": null,
   "metadata": {},
   "outputs": [],
   "source": [
    "from scipy.sparse import csr_matrix\n",
    "import torch\n",
    "\n",
    "L = csr_matrix(L)\n",
    "X = torch.Tensor(X)"
   ]
  },
  {
   "cell_type": "code",
   "execution_count": null,
   "metadata": {},
   "outputs": [],
   "source": [
    "from metal.utils import split_data\n",
    "\n",
    "Ls, Xs, Ys, Zs = split_data(L, X, Y, Z, splits=[0.8, 0.1, 0.1], shuffle=True, seed=123)"
   ]
  },
  {
   "cell_type": "code",
   "execution_count": null,
   "metadata": {
    "scrolled": false
   },
   "outputs": [],
   "source": [
    "from metal.analysis import lf_summary\n",
    "\n",
    "lf_summary(Ls[1], Ys[1])"
   ]
  },
  {
   "cell_type": "code",
   "execution_count": null,
   "metadata": {
    "scrolled": true
   },
   "outputs": [],
   "source": [
    "# num_votes = Ls[0].sum(axis=1)\n",
    "# plt.hist(num_votes)"
   ]
  },
  {
   "cell_type": "code",
   "execution_count": null,
   "metadata": {},
   "outputs": [],
   "source": [
    "# np.save('synthetic_data.npy', (L, Y))"
   ]
  },
  {
   "cell_type": "markdown",
   "metadata": {},
   "source": [
    "# Learn"
   ]
  },
  {
   "cell_type": "code",
   "execution_count": null,
   "metadata": {},
   "outputs": [],
   "source": [
    "# L, Y = np.load('synthetic_data.npy')"
   ]
  },
  {
   "cell_type": "markdown",
   "metadata": {},
   "source": [
    "### Snorkel LabelModel"
   ]
  },
  {
   "cell_type": "code",
   "execution_count": null,
   "metadata": {
    "scrolled": true
   },
   "outputs": [],
   "source": [
    "from metal.contrib.backends.snorkel_gm_wrapper import SnorkelLabelModel\n",
    "\n",
    "label_model = SnorkelLabelModel()\n",
    "label_model.train_model(Ls[0])"
   ]
  },
  {
   "cell_type": "code",
   "execution_count": null,
   "metadata": {},
   "outputs": [],
   "source": [
    "from metal.metrics import accuracy_score\n",
    "\n",
    "Y_train_ps = label_model.predict_proba(Ls[0])\n",
    "Y_train_p = label_model.predict(Ls[0])\n",
    "\n",
    "Y_dev_ps = label_model.predict_proba(Ls[0])\n",
    "Y_dev_p = label_model.predict(Ls[1])\n",
    "accuracy_score(Ys[1], Y_dev_p)"
   ]
  },
  {
   "cell_type": "code",
   "execution_count": null,
   "metadata": {},
   "outputs": [],
   "source": [
    "from metal.contrib.visualization.analysis import (\n",
    "    plot_predictions_histogram, \n",
    "    plot_probabilities_histogram,\n",
    ")\n",
    "    \n",
    "plot_probabilities_histogram(Y_dev_ps[:,0], title=\"Probablistic Label Distribution\")\n",
    "plot_predictions_histogram(Y_dev_p, Ys[1], title=\"Label Distribution\")"
   ]
  },
  {
   "cell_type": "markdown",
   "metadata": {},
   "source": [
    "## Compare Baselines"
   ]
  },
  {
   "cell_type": "code",
   "execution_count": null,
   "metadata": {},
   "outputs": [],
   "source": [
    "# from torch.utils.data import DataLoader\n",
    "# from metal.utils import SlicingDataset\n",
    "# from metal.contrib.slicing.utils import evaluate_slicing\n",
    "\n",
    "# eval_loader = DataLoader(SlicingDataset(Xs[1], Ys[1], Zs[1]))\n",
    "\n",
    "# results = {}\n",
    "# for model_name, model in trained_models.items():\n",
    "#     scores = evaluate_slicing(model, eval_loader, verbose=False)\n",
    "#     results[model_name] = {k:v['accuracy'] for k,v in scores.items()}\n",
    "    \n",
    "# import pandas as pd\n",
    "# pd.DataFrame.from_dict(results)"
   ]
  },
  {
   "cell_type": "markdown",
   "metadata": {},
   "source": [
    "### EndModel"
   ]
  },
  {
   "cell_type": "code",
   "execution_count": null,
   "metadata": {},
   "outputs": [],
   "source": [
    "from torch.utils.data import DataLoader\n",
    "from metal.utils import SlicingDataset\n",
    "\n",
    "train_loader = DataLoader(\n",
    "    SlicingDataset(Xs[0], Y_train_ps),\n",
    "    batch_size=256,\n",
    "    shuffle=True\n",
    ")"
   ]
  },
  {
   "cell_type": "code",
   "execution_count": null,
   "metadata": {
    "scrolled": false
   },
   "outputs": [],
   "source": [
    "from metal.end_model import EndModel\n",
    "import torch\n",
    "\n",
    "end_model = EndModel([2,10,10,2])\n",
    "end_model.train_model(train_loader, dev_data=(Xs[1], Ys[1]), l2=0.0, \n",
    "                      n_epochs=25, print_every=5, validation_metric='accuracy', \n",
    "                      disable_prog_bar=True)\n",
    "end_model.score((Xs[1], Ys[1]))"
   ]
  },
  {
   "cell_type": "markdown",
   "metadata": {},
   "source": [
    "### SliceModel"
   ]
  },
  {
   "cell_type": "code",
   "execution_count": null,
   "metadata": {},
   "outputs": [],
   "source": [
    "from torch.utils.data import DataLoader\n",
    "from metal.utils import SlicingDataset\n",
    "\n",
    "Ls_tensors = [torch.Tensor(np.asarray(L.todense())) for L in Ls]\n",
    "\n",
    "train_loader = DataLoader(\n",
    "    SlicingDataset(Xs[0], Ls_tensors[0], Y_train_ps),\n",
    "    batch_size=256,\n",
    "    shuffle=True\n",
    ")\n",
    "\n",
    "dev_loader = DataLoader(\n",
    "    SlicingDataset(Xs[1], Ys[1]),\n",
    "    batch_size=256,\n",
    ")"
   ]
  },
  {
   "cell_type": "code",
   "execution_count": null,
   "metadata": {
    "scrolled": false
   },
   "outputs": [],
   "source": [
    "import torch.nn as nn\n",
    "from metal.contrib.slicing.online_dp import SliceDPModel, MLPModule\n",
    "\n",
    "n, m = Ls[0].shape\n",
    "input_dim = Xs[0].shape[1]\n",
    "\n",
    "input_module = MLPModule(input_dim, 10, [10], bias=True)\n",
    "slice_model = SliceDPModel(input_module, r=10, m=m, reweight=False, slice_weight=0.1, \n",
    "                           verbose=False)\n",
    "slice_model.train_model(\n",
    "    train_loader,\n",
    "    dev_data=dev_loader,\n",
    "    l2=0.0, n_epochs=50,\n",
    "    print_every=5, validation_metric='accuracy',\n",
    "    log_writer=None,\n",
    "    verbose=True, \n",
    "    use_cuda=False,\n",
    "    disable_prog_bar=True,\n",
    ")"
   ]
  },
  {
   "cell_type": "markdown",
   "metadata": {},
   "source": [
    "### New SliceModel"
   ]
  },
  {
   "cell_type": "code",
   "execution_count": null,
   "metadata": {
    "scrolled": false
   },
   "outputs": [],
   "source": [
    "from metal.contrib.slicing.online_dp import SliceHatModel\n",
    "\n",
    "# base_model = EndModel([2,20,20,2], verbose=False)\n",
    "slicer = SliceHatModel(end_model, m, slice_weight=0.1)\n",
    "\n",
    "slicer.train_model(\n",
    "    train_loader,\n",
    "    dev_data=dev_loader,\n",
    "    lr=0.05,\n",
    "    l2=0.0, n_epochs=50,\n",
    "    print_every=5, validation_metric='accuracy',\n",
    "    log_writer=None,\n",
    "    verbose=True, \n",
    "    use_cuda=False,\n",
    "    disable_prog_bar=True,\n",
    ")"
   ]
  },
  {
   "cell_type": "code",
   "execution_count": null,
   "metadata": {
    "scrolled": false
   },
   "outputs": [],
   "source": [
    "from metal.contrib.slicing.utils import evaluate_slicing\n",
    "\n",
    "from torch.utils.data import DataLoader\n",
    "from metal.utils import SlicingDataset\n",
    "\n",
    "eval_loader = DataLoader(SlicingDataset(Xs[1], Ys[1], Zs[1]))\n",
    "\n",
    "_ = evaluate_slicing(end_model, eval_loader, verbose=False)\n",
    "_ = evaluate_slicing(slice_model, eval_loader, verbose=False)\n",
    "_ = evaluate_slicing(slicer, eval_loader, verbose=False)"
   ]
  },
  {
   "cell_type": "code",
   "execution_count": null,
   "metadata": {},
   "outputs": [],
   "source": [
    "# L_pred = np.round(slicer.predict_L_proba(Xs[1]).numpy())\n",
    "# L_pred[L_pred == 0] = 2\n",
    "# accuracy_score(Ls[1].reshape(-1,1), L_pred.reshape(-1,1), ignore_in_gold=[0])"
   ]
  },
  {
   "cell_type": "code",
   "execution_count": null,
   "metadata": {},
   "outputs": [],
   "source": [
    "# ((Ls[1] == L_pred).sum(axis=0)/(Ls[1] != 0).sum(axis=0)).mean()"
   ]
  },
  {
   "cell_type": "code",
   "execution_count": null,
   "metadata": {},
   "outputs": [],
   "source": []
  }
 ],
 "metadata": {
  "kernelspec": {
   "display_name": "Python [conda env:metal]",
   "language": "python",
   "name": "conda-env-metal-py"
  },
  "language_info": {
   "codemirror_mode": {
    "name": "ipython",
    "version": 3
   },
   "file_extension": ".py",
   "mimetype": "text/x-python",
   "name": "python",
   "nbconvert_exporter": "python",
   "pygments_lexer": "ipython3",
   "version": "3.6.8"
  }
 },
 "nbformat": 4,
 "nbformat_minor": 2
}
